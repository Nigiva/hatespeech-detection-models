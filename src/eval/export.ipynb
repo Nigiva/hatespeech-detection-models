{
 "cells": [
  {
   "cell_type": "code",
   "execution_count": 30,
   "metadata": {},
   "outputs": [],
   "source": [
    "import pandas as pd\n",
    "import numpy as np\n",
    "import os\n",
    "import torchmetrics as tm\n",
    "import torch\n",
    "from tqdm.auto import tqdm\n",
    "from pathlib import Path\n",
    "import shutil"
   ]
  },
  {
   "cell_type": "code",
   "execution_count": 31,
   "metadata": {},
   "outputs": [],
   "source": [
    "# Dataset\n",
    "DATA_DIR_PATH = os.path.abspath(\"../../data\")\n",
    "SESSION_DIR_PATH = os.path.abspath(\"../../session\")\n",
    "EXPORT_DIR_PATH = os.path.abspath(\"/tmp/export\")\n",
    "\n",
    "os.makedirs(EXPORT_DIR_PATH, exist_ok=True)"
   ]
  },
  {
   "cell_type": "code",
   "execution_count": 32,
   "metadata": {},
   "outputs": [],
   "source": [
    "def session_filter(session_name : str):\n",
    "    return not session_name.startswith(\"test-\") and not session_name.startswith(\"fix-\")"
   ]
  },
  {
   "cell_type": "code",
   "execution_count": 33,
   "metadata": {},
   "outputs": [],
   "source": [
    "session_iter = Path(SESSION_DIR_PATH).iterdir()\n",
    "session_iter = filter(lambda path: path.is_dir(), session_iter)\n",
    "session_iter = map(lambda path: path.name, session_iter)\n",
    "session_iter = filter(session_filter, session_iter)\n",
    "session_list = list(session_iter)"
   ]
  },
  {
   "cell_type": "code",
   "execution_count": 34,
   "metadata": {},
   "outputs": [
    {
     "data": {
      "text/plain": [
       "27"
      ]
     },
     "execution_count": 34,
     "metadata": {},
     "output_type": "execute_result"
    }
   ],
   "source": [
    "len(session_list)"
   ]
  },
  {
   "cell_type": "code",
   "execution_count": 35,
   "metadata": {},
   "outputs": [],
   "source": [
    "validation_dataset_namespace = lambda session_name: f\"{session_name}.jigsaw2019-validation.csv\"\n",
    "log_namespace = lambda session_name: f\"{session_name}.loguru.log\"\n",
    "metric_namespace = lambda session_name: f\"{session_name}.metric.json\"\n",
    "test_prediction_namespace = lambda session_name: f\"{session_name}.test.csv\"\n",
    "validation_prediction_namespace = lambda session_name: f\"{session_name}.validation.csv\""
   ]
  },
  {
   "cell_type": "code",
   "execution_count": 36,
   "metadata": {},
   "outputs": [
    {
     "data": {
      "application/vnd.jupyter.widget-view+json": {
       "model_id": "d660202fe3984de7a4053096eda57797",
       "version_major": 2,
       "version_minor": 0
      },
      "text/plain": [
       "  0%|          | 0/27 [00:00<?, ?it/s]"
      ]
     },
     "metadata": {},
     "output_type": "display_data"
    }
   ],
   "source": [
    "root_path = Path(SESSION_DIR_PATH)\n",
    "for session in tqdm(session_list):\n",
    "    session_path = root_path.joinpath(session)\n",
    "\n",
    "    validation_dataset_path = session_path.joinpath(validation_dataset_namespace(session))\n",
    "    log_path = session_path.joinpath(log_namespace(session))\n",
    "    metric_dataset_path = session_path.joinpath(metric_namespace(session))\n",
    "    test_prediction_dataset_path = session_path.joinpath(test_prediction_namespace(session))\n",
    "    validation_prediction_path = session_path.joinpath(validation_prediction_namespace(session))\n",
    "\n",
    "    if not validation_prediction_path.exists():\n",
    "        print(session, \"is not completed !\")\n",
    "    \n",
    "    shutil.copy2(validation_dataset_path, EXPORT_DIR_PATH)\n",
    "    shutil.copy2(log_path, EXPORT_DIR_PATH)\n",
    "    shutil.copy2(metric_dataset_path, EXPORT_DIR_PATH)\n",
    "    shutil.copy2(test_prediction_dataset_path, EXPORT_DIR_PATH)\n",
    "    shutil.copy2(validation_prediction_path, EXPORT_DIR_PATH)\n",
    "    "
   ]
  }
 ],
 "metadata": {
  "interpreter": {
   "hash": "61bdec511af6d11ab513a76379a59f4e5a5400220f7b851eb051cbea952f89aa"
  },
  "kernelspec": {
   "display_name": "Python 3.8.9 ('venv': venv)",
   "language": "python",
   "name": "python3"
  },
  "language_info": {
   "codemirror_mode": {
    "name": "ipython",
    "version": 3
   },
   "file_extension": ".py",
   "mimetype": "text/x-python",
   "name": "python",
   "nbconvert_exporter": "python",
   "pygments_lexer": "ipython3",
   "version": "3.8.9"
  },
  "orig_nbformat": 4
 },
 "nbformat": 4,
 "nbformat_minor": 2
}
