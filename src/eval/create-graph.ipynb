{
 "cells": [
  {
   "cell_type": "code",
   "execution_count": 56,
   "metadata": {},
   "outputs": [],
   "source": [
    "import pandas as pd\n",
    "import numpy as np\n",
    "import os\n",
    "from pathlib import Path\n",
    "from tqdm.notebook import tqdm\n",
    "tqdm.pandas()\n",
    "\n",
    "import torch\n",
    "import torchmetrics as tm\n",
    "import seaborn as sns\n",
    "from matplotlib import pyplot as plt\n",
    "\n",
    "import warnings\n",
    "warnings.filterwarnings(\"ignore\")"
   ]
  },
  {
   "cell_type": "code",
   "execution_count": 69,
   "metadata": {},
   "outputs": [],
   "source": [
    "SESSION_DIR_PATH = Path(\"../../session\")\n",
    "DATA_DIR_PATH = Path(\"../../data\")\n",
    "SESSION_DIR_PATH = Path(\"../../session\")\n",
    "TRAIN_DATASET_PATH = DATA_DIR_PATH.joinpath(\"jigsaw2019-train.csv\")\n",
    "TEST_DATASET_PATH = DATA_DIR_PATH.joinpath(\"jigsaw2019-test.csv\")\n",
    "LABEL_LIST = ['toxicity', 'obscene', 'sexual_explicit',\n",
    "            'identity_attack', 'insult', 'threat']\n",
    "IDENTITY_LIST = ['male', 'female', 'transgender', 'other_gender', 'heterosexual',\n",
    "                'homosexual_gay_or_lesbian', 'bisexual','other_sexual_orientation',\n",
    "                'christian', 'jewish', 'muslim', 'hindu','buddhist', 'atheist',\n",
    "                'other_religion', 'black', 'white', 'asian', 'latino',\n",
    "                'other_race_or_ethnicity', 'physical_disability',\n",
    "                'intellectual_or_learning_disability',\n",
    "                'psychiatric_or_mental_illness','other_disability']\n",
    "SELECTED_IDENTITY_LIST = ['male', 'female', 'black', 'white', 'homosexual_gay_or_lesbian',\n",
    "                    'christian', 'jewish', 'muslim', 'psychiatric_or_mental_illness']\n",
    "\n",
    "SELECTED_SESSION_INFO = [('glove-bilstm-bce_2022-03-31T18-54-19-824060', 'rnn', 141046211, 28),\n",
    "                        ('roberta-fl_2022-03-30T11-53-46-595839', 'bert', 120657895, 20),\n",
    "                        ('roberta-cbntrfl_2022-03-30T09-07-31-830794', 'bert', 211293320, 11),\n",
    "                        ('roberta-pwbce_2022-03-30T15-57-44-127079', 'bert', 108850773, 13),\n",
    "                        ('roberta-pwfl_2022-03-30T16-53-02-178977', 'bert', 33049403, 12),\n",
    "                        ('unfreeze-glove-resnet44-bce_2022-03-31T07-05-17-083127', 'cnn', 286366972, 17),\n",
    "                        ('roberta-dbfl_2022-03-30T10-03-00-862744', 'bert', 96241080, 13),\n",
    "                        ('roberta-large-bce_2022-03-30T12-49-24-393100', 'bert', 97194374, 11)\n",
    "                        ]\n",
    "\n",
    "SELECTED_SESSION_NAME = [name for name, _,  _, _ in SELECTED_SESSION_INFO]\n",
    "SELECTED_SESSION_PARAMS = [params for _, _, params, _ in SELECTED_SESSION_INFO]\n",
    "SELECTED_SESSION_BATCHTIME = [batchtime for _, _, _, batchtime in SELECTED_SESSION_INFO]"
   ]
  },
  {
   "cell_type": "code",
   "execution_count": 58,
   "metadata": {},
   "outputs": [],
   "source": [
    "validation_dataset_namespace = lambda session_name: f\"{session_name}.jigsaw2019-validation.csv\"\n",
    "log_namespace = lambda session_name: f\"{session_name}.loguru.log\"\n",
    "metric_namespace = lambda session_name: f\"{session_name}.metric.json\"\n",
    "test_prediction_namespace = lambda session_name: f\"{session_name}.test.csv\"\n",
    "validation_prediction_namespace = lambda session_name: f\"{session_name}.validation.csv\""
   ]
  },
  {
   "cell_type": "markdown",
   "metadata": {},
   "source": [
    "## Metrics en général"
   ]
  },
  {
   "cell_type": "code",
   "execution_count": 59,
   "metadata": {},
   "outputs": [],
   "source": [
    "# Adapted from : https://gist.github.com/aditya-5842/b2a886f42bc9988dc11c1737a349830c\n",
    "\n",
    "from sklearn.metrics import roc_auc_score\n",
    "\n",
    "########################################################################################\n",
    "#######################     function to calculate the AUC        #######################\n",
    "########################################################################################\n",
    "\n",
    "def cal_auc(y_true, y_pred):\n",
    "    \"returns the auc value\"\n",
    "    return roc_auc_score(y_true, y_pred)\n",
    "\n",
    "########################################################################################\n",
    "#######################  function to calculate the Subgroup AUC  #######################\n",
    "########################################################################################\n",
    "\n",
    "def cal_subgroup_auc(target_df, prediction_df, subgroups, label):\n",
    "    subgroup_filter = target_df[subgroups] == 1\n",
    "    return cal_auc(target_df[subgroup_filter][label], prediction_df[subgroup_filter][label])\n",
    "\n",
    "########################################################################################\n",
    "#######################   function to calculate the BPSN AUC     #######################\n",
    "########################################################################################\n",
    "\n",
    "def cal_bpsn_auc(target_df, prediction_df, subgroups, label):\n",
    "    \"\"\"This will calculate the BPSN auc\"\"\"\n",
    "    subgroup_filter = target_df[subgroups] == 1\n",
    "    positive_label_filter = target_df[label] == 1\n",
    "    # subset where subgroup is True and target label is 0\n",
    "    pred_subgroup_negative_examples = prediction_df[subgroup_filter & ~positive_label_filter]\n",
    "    target_subgroup_negative_examples = target_df[subgroup_filter & ~positive_label_filter]\n",
    "\n",
    "    # subset where subgroup is False and target label is 1\n",
    "    pred_background_positive_examples = prediction_df[~subgroup_filter & positive_label_filter]\n",
    "    target_background_positive_examples = target_df[~subgroup_filter & positive_label_filter]\n",
    "\n",
    "    # combine above two sets\n",
    "    pred_bpsn_examples = pd.concat([pred_subgroup_negative_examples, pred_background_positive_examples])\n",
    "    target_bpsn_examples = pd.concat([target_subgroup_negative_examples, target_background_positive_examples])\n",
    "\n",
    "    return cal_auc(target_bpsn_examples[label], pred_bpsn_examples[label])\n",
    "\n",
    "\n",
    "########################################################################################\n",
    "#######################   function to calculate the BNSP AUC     #######################\n",
    "########################################################################################\n",
    "def cal_bnsp_auc(target_df, prediction_df, subgroups, label):\n",
    "    \"\"\"This will calculate the BNSP auc\"\"\"\n",
    "    subgroup_filter = target_df[subgroups] == 1\n",
    "    positive_label_filter = target_df[label] == 1\n",
    "\n",
    "    # subset where subgroup is True and target label is 1\n",
    "    pred_subgroup_positive_examples = prediction_df[subgroup_filter & positive_label_filter]\n",
    "    target_subgroup_positive_examples = target_df[subgroup_filter & positive_label_filter]\n",
    "\n",
    "    # subset where subgroup is False and target label is 0\n",
    "    pred_background_negative_examples = prediction_df[~subgroup_filter & ~positive_label_filter]\n",
    "    target_background_negative_examples = target_df[~subgroup_filter & ~positive_label_filter]\n",
    "\n",
    "    # combine above two sets\n",
    "    pred_bnsp_examples = pd.concat([pred_subgroup_positive_examples, pred_background_negative_examples])\n",
    "    target_bnsp_examples = pd.concat([target_subgroup_positive_examples, target_background_negative_examples])\n",
    "\n",
    "    return cal_auc(target_bnsp_examples[label], pred_bnsp_examples[label])\n",
    "\n",
    "########################################################################################\n",
    "#######################    function to calculate Bias metric     #######################\n",
    "########################################################################################\n",
    "def cal_bias_metric(target_df, prediction_df, subgroups, label):\n",
    "    \"\"\"Computes per-subgroup metrics for all subgroups and one model\n",
    "    and returns the dataframe which will have all three Bias metrices\n",
    "    and number of exmaples for each subgroup\"\"\"\n",
    "    records = []\n",
    "    for subgroup in subgroups:\n",
    "        record = {\"subgroup\": subgroup, \"subgroup_size\": len(target_df[target_df[subgroup] == 1])}\n",
    "        record[\"subgroup_auc\"] = cal_subgroup_auc(target_df, prediction_df, subgroup, label)\n",
    "        record[\"bpsn_auc\"]     = cal_bpsn_auc(target_df, prediction_df, subgroup, label)\n",
    "        record[\"bnsp_auc\"]     = cal_bnsp_auc(target_df, prediction_df, subgroup, label)\n",
    "\n",
    "        records.append(record)\n",
    "    submetric_df = pd.DataFrame(records)\n",
    "\n",
    "    return submetric_df\n",
    "\n",
    "########################################################################################\n",
    "#######################   function to calculate Overall metric   #######################\n",
    "########################################################################################\n",
    "def cal_overall_auc(target_df, prediction_df, label):\n",
    "    return roc_auc_score(target_df[label], prediction_df[label])\n",
    "\n",
    "########################################################################################\n",
    "#######################    function to calculate final metric    #######################\n",
    "########################################################################################\n",
    "def power_mean(series, p):\n",
    "    total_sum = np.sum(np.power(series, p))\n",
    "    return np.power(total_sum/len(series), 1/p)\n",
    "\n",
    "def final_metric(submetric_df, overall_auc, p = -5, w = 0.25):\n",
    "    generalized_subgroup_auc = power_mean(submetric_df[\"subgroup_auc\"], p)\n",
    "    generalized_bpsn_auc = power_mean(submetric_df[\"bpsn_auc\"], p)\n",
    "    generalized_bnsp_auc = power_mean(submetric_df[\"bnsp_auc\"], p)\n",
    "    \n",
    "    overall_metric = w*overall_auc + w*(generalized_subgroup_auc\n",
    "                                        + generalized_bpsn_auc\n",
    "                                        + generalized_bnsp_auc)\n",
    "    return overall_metric\n",
    "\n",
    "def generalized_auc_metric(target_df, prediction_df, subgroups, label, p = -5):\n",
    "    submetric_df = cal_bias_metric(target_df, prediction_df, subgroups, label)\n",
    "    \n",
    "    generalized_subgroup_auc = power_mean(submetric_df[\"subgroup_auc\"], p)\n",
    "    generalized_bpsn_auc = power_mean(submetric_df[\"bpsn_auc\"], p)\n",
    "    generalized_bnsp_auc = power_mean(submetric_df[\"bnsp_auc\"], p)\n",
    "\n",
    "    return dict(generalized_subgroup_auc=generalized_subgroup_auc, \n",
    "                generalized_bpsn_auc=generalized_bpsn_auc,\n",
    "                generalized_bnsp_auc=generalized_bnsp_auc)\n",
    "\n",
    "########################################################################################\n",
    "#######################   function all above function into one   #######################\n",
    "########################################################################################\n",
    "\n",
    "def return_final_metric(target_df, prediction_df, subgroups, label):\n",
    "    \"\"\"Data is dataframe which include whole data \n",
    "    and it also has the predicted target column\"\"\"\n",
    "    submetric_df = cal_bias_metric(target_df, prediction_df, subgroups, label)\n",
    "\n",
    "    overall_auc =  cal_overall_auc(target_df, prediction_df, label)\n",
    "    overall_metric = final_metric(submetric_df, overall_auc, p = -5, w = 0.25)\n",
    "\n",
    "    return overall_metric, submetric_df"
   ]
  },
  {
   "cell_type": "markdown",
   "metadata": {},
   "source": [
    "## Preparer les données"
   ]
  },
  {
   "cell_type": "code",
   "execution_count": 60,
   "metadata": {},
   "outputs": [],
   "source": [
    "target_test_df = pd.read_csv(TEST_DATASET_PATH, index_col=0)\n",
    "target_test_df = target_test_df[~target_test_df.white.isna()]# TO REMOVE\n",
    "target_test_df[LABEL_LIST] = (target_test_df[LABEL_LIST] >= 0.5).astype(int)\n",
    "target_test_df.reset_index(inplace=True)"
   ]
  },
  {
   "cell_type": "code",
   "execution_count": 61,
   "metadata": {},
   "outputs": [],
   "source": [
    "identity_target_test_df = target_test_df[~target_test_df.white.isna()].copy()\n",
    "identity_target_test_df[LABEL_LIST + IDENTITY_LIST] = (identity_target_test_df[LABEL_LIST + IDENTITY_LIST] >= 0.5).astype(int)\n",
    "identity_target_test_df.reset_index(inplace=True)"
   ]
  },
  {
   "cell_type": "markdown",
   "metadata": {},
   "source": [
    "## Fonction à appliquer pour chaque model"
   ]
  },
  {
   "cell_type": "markdown",
   "metadata": {},
   "source": [
    "### Générique"
   ]
  },
  {
   "cell_type": "code",
   "execution_count": 62,
   "metadata": {},
   "outputs": [],
   "source": [
    "def get_best_f1_threshold(session_name):\n",
    "    # Path\n",
    "    session_path = SESSION_DIR_PATH.joinpath(session_name)\n",
    "    validation_target_path = session_path.joinpath(validation_dataset_namespace(session_name))\n",
    "    validation_prediction_path = session_path.joinpath(validation_prediction_namespace(session_name))\n",
    "\n",
    "    # Read files\n",
    "    target_validation_df = pd.read_csv(validation_target_path, index_col=0)\n",
    "    pred_validation_df = pd.read_csv(validation_prediction_path, index_col=0)\n",
    "\n",
    "    # Clean data\n",
    "    pred_validation_df = pred_validation_df[LABEL_LIST]\n",
    "    target_validation_df = (target_validation_df[LABEL_LIST] >= 0.5).astype(int)\n",
    "\n",
    "    # Create tensors\n",
    "    target_tensor = torch.Tensor(target_validation_df.to_numpy()).to(int)\n",
    "    prediction_tensor = torch.Tensor(pred_validation_df.to_numpy())\n",
    "\n",
    "    thresholds = np.arange(0, 1, 0.001)\n",
    "    scores = [tm.F1Score(threshold=t, average=\"micro\")(prediction_tensor, target_tensor) for t in tqdm(thresholds, leave=False)]\n",
    "    # get best threshold\n",
    "    ix = np.argmax(scores)\n",
    "    best_thresholds = thresholds[ix]\n",
    "    return best_thresholds"
   ]
  },
  {
   "cell_type": "markdown",
   "metadata": {},
   "source": [
    "### Groupe By"
   ]
  },
  {
   "cell_type": "code",
   "execution_count": 63,
   "metadata": {},
   "outputs": [],
   "source": [
    "def perf_and_bias_metric_per_model(prediction_test_df : pd.DataFrame):\n",
    "    result_metric_dict = dict()\n",
    "\n",
    "    # Performance\n",
    "    perf_metric_dict = dict()\n",
    "    ## AUROC Macro\n",
    "    perf_metric_dict[\"auroc_macro\"] = tm.AUROC(num_classes=len(LABEL_LIST), average=\"macro\")\n",
    "    ## F1 Score Macro\n",
    "    perf_metric_dict[\"f1_macro_50\"] = tm.F1Score(num_classes=len(LABEL_LIST), average=\"macro\", threshold=0.5)\n",
    "    ## F1 Score Micro\n",
    "    perf_metric_dict[\"f1_micro_50\"] = tm.F1Score(num_classes=len(LABEL_LIST), average=\"micro\", threshold=0.5)\n",
    "    ## Micro F1@BestTh\n",
    "    session_name = prediction_test_df[\"session_name\"].to_list()[0]\n",
    "    best_threshold = get_best_f1_threshold(session_name)\n",
    "    perf_metric_dict[\"best_f1_micro\"] = tm.F1Score(num_classes=len(LABEL_LIST), average=\"micro\", threshold=best_threshold)\n",
    "    \n",
    "    ## Recall\n",
    "    perf_metric_dict[\"recall_micro_50\"] = tm.Recall(num_classes=len(LABEL_LIST), average=\"micro\", threshold=0.5)\n",
    "    ## Precision\n",
    "    perf_metric_dict[\"precision_micro_50\"] = tm.Precision(num_classes=len(LABEL_LIST), average=\"micro\", threshold=0.5)\n",
    "\n",
    "    perf_metric_collection = tm.MetricCollection(perf_metric_dict)\n",
    "\n",
    "    pred_tensor = torch.Tensor(prediction_test_df[LABEL_LIST].to_numpy())\n",
    "    target_tensor = torch.Tensor(target_test_df[LABEL_LIST].to_numpy()).to(int)\n",
    "    perf_result_metric_dict = perf_metric_collection(pred_tensor, target_tensor)\n",
    "    perf_result_metric_dict = {key:value.item() for key, value in perf_result_metric_dict.items()}\n",
    "    result_metric_dict.update(perf_result_metric_dict)\n",
    "\n",
    "    # Biais\n",
    "    label = \"toxicity\"\n",
    "    identity_prediction_test_df = pd.concat([prediction_test_df, identity_target_test_df[IDENTITY_LIST]], axis=1)\n",
    "    result_metric_dict.update(generalized_auc_metric(identity_target_test_df, identity_prediction_test_df, SELECTED_IDENTITY_LIST, label))\n",
    "\n",
    "    return pd.Series(result_metric_dict)"
   ]
  },
  {
   "cell_type": "code",
   "execution_count": 64,
   "metadata": {},
   "outputs": [],
   "source": [
    "def identity_aur_per_sub_per_model(prediction_test_df):\n",
    "    label = \"toxicity\"\n",
    "    prediction_test_df = pd.concat([prediction_test_df, identity_target_test_df[IDENTITY_LIST]], axis=1)\n",
    "    return cal_bias_metric(identity_target_test_df, prediction_test_df, SELECTED_IDENTITY_LIST, label)"
   ]
  },
  {
   "cell_type": "code",
   "execution_count": 65,
   "metadata": {},
   "outputs": [],
   "source": [
    "def auroc_per_class_per_model(prediction_test_df):\n",
    "    # TODO\n",
    "    pass"
   ]
  },
  {
   "cell_type": "markdown",
   "metadata": {},
   "source": [
    "## Calcul sur les sessions"
   ]
  },
  {
   "cell_type": "code",
   "execution_count": 66,
   "metadata": {},
   "outputs": [
    {
     "data": {
      "application/vnd.jupyter.widget-view+json": {
       "model_id": "07166bdc22954f39b1f6bc2377269103",
       "version_major": 2,
       "version_minor": 0
      },
      "text/plain": [
       "  0%|          | 0/8 [00:00<?, ?it/s]"
      ]
     },
     "metadata": {},
     "output_type": "display_data"
    }
   ],
   "source": [
    "prediction_test_df = None\n",
    "for session_name in tqdm(SELECTED_SESSION_NAME):\n",
    "    session_path = SESSION_DIR_PATH.joinpath(session_name)\n",
    "    test_file_path =session_path.joinpath(test_prediction_namespace(session_name))\n",
    "    current_test_df = pd.read_csv(test_file_path, index_col=0)\n",
    "    current_test_df[\"session_name\"] = session_name\n",
    "    if prediction_test_df is None:\n",
    "        prediction_test_df = current_test_df\n",
    "    else:\n",
    "        prediction_test_df = pd.concat([prediction_test_df, current_test_df])\n"
   ]
  },
  {
   "cell_type": "code",
   "execution_count": 67,
   "metadata": {},
   "outputs": [],
   "source": [
    "groupby_test_df = prediction_test_df.groupby(\"session_name\")"
   ]
  },
  {
   "cell_type": "markdown",
   "metadata": {},
   "source": [
    "### Perf & Biais Metric pour chaque Model"
   ]
  },
  {
   "cell_type": "code",
   "execution_count": 68,
   "metadata": {},
   "outputs": [
    {
     "data": {
      "application/vnd.jupyter.widget-view+json": {
       "model_id": "74d052b2650d42cbaf0fe32eff7828e5",
       "version_major": 2,
       "version_minor": 0
      },
      "text/plain": [
       "  0%|          | 0/8 [00:00<?, ?it/s]"
      ]
     },
     "metadata": {},
     "output_type": "display_data"
    },
    {
     "data": {
      "application/vnd.jupyter.widget-view+json": {
       "model_id": "d11a94c326a249438653a3a3e1d3d6fc",
       "version_major": 2,
       "version_minor": 0
      },
      "text/plain": [
       "  0%|          | 0/1000 [00:00<?, ?it/s]"
      ]
     },
     "metadata": {},
     "output_type": "display_data"
    },
    {
     "data": {
      "application/vnd.jupyter.widget-view+json": {
       "model_id": "fdb8ae6fe4b0431488c3d27050d5c4d3",
       "version_major": 2,
       "version_minor": 0
      },
      "text/plain": [
       "  0%|          | 0/1000 [00:00<?, ?it/s]"
      ]
     },
     "metadata": {},
     "output_type": "display_data"
    },
    {
     "data": {
      "application/vnd.jupyter.widget-view+json": {
       "model_id": "17065974b9924b7a9d6ca90d46f65f1d",
       "version_major": 2,
       "version_minor": 0
      },
      "text/plain": [
       "  0%|          | 0/1000 [00:00<?, ?it/s]"
      ]
     },
     "metadata": {},
     "output_type": "display_data"
    },
    {
     "data": {
      "application/vnd.jupyter.widget-view+json": {
       "model_id": "22e90f174232411c9afff3566a443c96",
       "version_major": 2,
       "version_minor": 0
      },
      "text/plain": [
       "  0%|          | 0/1000 [00:00<?, ?it/s]"
      ]
     },
     "metadata": {},
     "output_type": "display_data"
    },
    {
     "data": {
      "application/vnd.jupyter.widget-view+json": {
       "model_id": "718bdb8f0b5943998bde01061aeaa96e",
       "version_major": 2,
       "version_minor": 0
      },
      "text/plain": [
       "  0%|          | 0/1000 [00:00<?, ?it/s]"
      ]
     },
     "metadata": {},
     "output_type": "display_data"
    },
    {
     "data": {
      "application/vnd.jupyter.widget-view+json": {
       "model_id": "f27109b6182a448fb0dc8c8488d86c4b",
       "version_major": 2,
       "version_minor": 0
      },
      "text/plain": [
       "  0%|          | 0/1000 [00:00<?, ?it/s]"
      ]
     },
     "metadata": {},
     "output_type": "display_data"
    },
    {
     "data": {
      "application/vnd.jupyter.widget-view+json": {
       "model_id": "1391bc900e134a3cb697c1c2a53a10f9",
       "version_major": 2,
       "version_minor": 0
      },
      "text/plain": [
       "  0%|          | 0/1000 [00:00<?, ?it/s]"
      ]
     },
     "metadata": {},
     "output_type": "display_data"
    },
    {
     "data": {
      "application/vnd.jupyter.widget-view+json": {
       "model_id": "b9a6884d7a364d2baa30eda5e858c7c8",
       "version_major": 2,
       "version_minor": 0
      },
      "text/plain": [
       "  0%|          | 0/1000 [00:00<?, ?it/s]"
      ]
     },
     "metadata": {},
     "output_type": "display_data"
    }
   ],
   "source": [
    "perf_and_bias_metric_per_model_df = groupby_test_df.progress_apply(perf_and_bias_metric_per_model)"
   ]
  },
  {
   "cell_type": "code",
   "execution_count": null,
   "metadata": {},
   "outputs": [],
   "source": [
    "perf_and_bias_metric_per_model_df"
   ]
  },
  {
   "cell_type": "markdown",
   "metadata": {},
   "source": [
    "#### Tableau des metriques en fonction des modèles"
   ]
  },
  {
   "cell_type": "markdown",
   "metadata": {},
   "source": [
    "##### Renommer `session_name` et les colonnes"
   ]
  },
  {
   "cell_type": "code",
   "execution_count": null,
   "metadata": {},
   "outputs": [],
   "source": [
    "perf_and_bias_metric_per_model_df.index = perf_and_bias_metric_per_model_df.index.map(lambda session_name: session_name.split(\"_\")[0])\n",
    "perf_and_bias_metric_per_model_df.index.name = \"Model\""
   ]
  },
  {
   "cell_type": "code",
   "execution_count": null,
   "metadata": {},
   "outputs": [],
   "source": [
    "rename_map = {\n",
    "    \"auroc_macro\": \"AUROC\",\n",
    "    \"best_f1_micro\": \"F1@B\",\n",
    "    \"f1_macro_50\": \"Macro F1\",\n",
    "    \"f1_micro_50\": \"Micro F1\",\n",
    "    \"precision_micro_50\": \"Precision\",\n",
    "    \"recall_micro_50\": \"Recall\",\n",
    "    \"generalized_subgroup_auc\": \"GMB Sub.\",\n",
    "    \"generalized_bpsn_auc\": \"GMB BPSN\",\n",
    "    \"generalized_bnsp_auc\": \"GMB BNSP\",\n",
    "}\n",
    "perf_and_bias_metric_per_model_df.rename(rename_map, inplace=True)"
   ]
  },
  {
   "cell_type": "code",
   "execution_count": null,
   "metadata": {},
   "outputs": [],
   "source": [
    "multi_columns = [('Performance', 'AUROC'),\n",
    "                ('Performance', 'F1@B'),\n",
    "                ('Performance', 'Macro F1'),\n",
    "                ('Performance', 'Micro F1'),\n",
    "                ('Performance', 'Precision'),\n",
    "                ('Performance', 'Recall'),\n",
    "                ('Bias', 'GMB Sub.'),\n",
    "                ('Bias', 'GMB BPSN'),\n",
    "                ('Bias', 'GMB BNSP')]\n",
    "\n",
    "perf_and_bias_metric_per_model_df.columns = pd.MultiIndex.from_tuples(multi_columns)"
   ]
  },
  {
   "cell_type": "code",
   "execution_count": null,
   "metadata": {},
   "outputs": [],
   "source": [
    "perf_and_bias_metric_per_model_df"
   ]
  },
  {
   "cell_type": "markdown",
   "metadata": {},
   "source": [
    "##### Style"
   ]
  },
  {
   "cell_type": "code",
   "execution_count": 101,
   "metadata": {},
   "outputs": [
    {
     "data": {
      "text/html": [
       "<style type=\"text/css\">\n",
       "#T_accad_row0_col0, #T_accad_row0_col1, #T_accad_row0_col3, #T_accad_row0_col6, #T_accad_row0_col7, #T_accad_row0_col8, #T_accad_row2_col4, #T_accad_row5_col5, #T_accad_row6_col2 {\n",
       "  background-color: #023858;\n",
       "  color: #f1f1f1;\n",
       "}\n",
       "#T_accad_row0_col2 {\n",
       "  background-color: #034a74;\n",
       "  color: #f1f1f1;\n",
       "}\n",
       "#T_accad_row0_col4 {\n",
       "  background-color: #045687;\n",
       "  color: #f1f1f1;\n",
       "}\n",
       "#T_accad_row0_col5 {\n",
       "  background-color: #60a1ca;\n",
       "  color: #f1f1f1;\n",
       "}\n",
       "#T_accad_row1_col0 {\n",
       "  background-color: #1c7fb8;\n",
       "  color: #f1f1f1;\n",
       "}\n",
       "#T_accad_row1_col1 {\n",
       "  background-color: #b9c6e0;\n",
       "  color: #000000;\n",
       "}\n",
       "#T_accad_row1_col2 {\n",
       "  background-color: #056ead;\n",
       "  color: #f1f1f1;\n",
       "}\n",
       "#T_accad_row1_col3 {\n",
       "  background-color: #0a73b2;\n",
       "  color: #f1f1f1;\n",
       "}\n",
       "#T_accad_row1_col4, #T_accad_row1_col5 {\n",
       "  background-color: #80aed2;\n",
       "  color: #f1f1f1;\n",
       "}\n",
       "#T_accad_row1_col6, #T_accad_row6_col4 {\n",
       "  background-color: #f8f1f8;\n",
       "  color: #000000;\n",
       "}\n",
       "#T_accad_row1_col7, #T_accad_row4_col5 {\n",
       "  background-color: #d7d6e9;\n",
       "  color: #000000;\n",
       "}\n",
       "#T_accad_row1_col8 {\n",
       "  background-color: #f0eaf4;\n",
       "  color: #000000;\n",
       "}\n",
       "#T_accad_row2_col0, #T_accad_row4_col2 {\n",
       "  background-color: #3991c1;\n",
       "  color: #f1f1f1;\n",
       "}\n",
       "#T_accad_row2_col1 {\n",
       "  background-color: #b3c3de;\n",
       "  color: #000000;\n",
       "}\n",
       "#T_accad_row2_col2, #T_accad_row2_col3, #T_accad_row2_col5, #T_accad_row2_col6, #T_accad_row3_col8, #T_accad_row5_col4, #T_accad_row5_col6, #T_accad_row6_col1, #T_accad_row6_col6, #T_accad_row6_col7, #T_accad_row7_col0 {\n",
       "  background-color: #fff7fb;\n",
       "  color: #000000;\n",
       "}\n",
       "#T_accad_row2_col7 {\n",
       "  background-color: #fbf3f9;\n",
       "  color: #000000;\n",
       "}\n",
       "#T_accad_row2_col8, #T_accad_row5_col7 {\n",
       "  background-color: #dedcec;\n",
       "  color: #000000;\n",
       "}\n",
       "#T_accad_row3_col0 {\n",
       "  background-color: #2987bc;\n",
       "  color: #f1f1f1;\n",
       "}\n",
       "#T_accad_row3_col1 {\n",
       "  background-color: #c4cbe3;\n",
       "  color: #000000;\n",
       "}\n",
       "#T_accad_row3_col2 {\n",
       "  background-color: #96b6d7;\n",
       "  color: #000000;\n",
       "}\n",
       "#T_accad_row3_col3 {\n",
       "  background-color: #c0c9e2;\n",
       "  color: #000000;\n",
       "}\n",
       "#T_accad_row3_col4 {\n",
       "  background-color: #0566a0;\n",
       "  color: #f1f1f1;\n",
       "}\n",
       "#T_accad_row3_col5 {\n",
       "  background-color: #ede8f3;\n",
       "  color: #000000;\n",
       "}\n",
       "#T_accad_row3_col6 {\n",
       "  background-color: #faf3f9;\n",
       "  color: #000000;\n",
       "}\n",
       "#T_accad_row3_col7 {\n",
       "  background-color: #cacee5;\n",
       "  color: #000000;\n",
       "}\n",
       "#T_accad_row4_col0 {\n",
       "  background-color: #1077b4;\n",
       "  color: #f1f1f1;\n",
       "}\n",
       "#T_accad_row4_col1 {\n",
       "  background-color: #93b5d6;\n",
       "  color: #000000;\n",
       "}\n",
       "#T_accad_row4_col3, #T_accad_row7_col3 {\n",
       "  background-color: #73a9cf;\n",
       "  color: #f1f1f1;\n",
       "}\n",
       "#T_accad_row4_col4 {\n",
       "  background-color: #0567a2;\n",
       "  color: #f1f1f1;\n",
       "}\n",
       "#T_accad_row4_col6 {\n",
       "  background-color: #eee8f3;\n",
       "  color: #000000;\n",
       "}\n",
       "#T_accad_row4_col7 {\n",
       "  background-color: #a2bcda;\n",
       "  color: #000000;\n",
       "}\n",
       "#T_accad_row4_col8, #T_accad_row7_col6 {\n",
       "  background-color: #fcf4fa;\n",
       "  color: #000000;\n",
       "}\n",
       "#T_accad_row5_col0 {\n",
       "  background-color: #2d8abd;\n",
       "  color: #f1f1f1;\n",
       "}\n",
       "#T_accad_row5_col1 {\n",
       "  background-color: #f6eff7;\n",
       "  color: #000000;\n",
       "}\n",
       "#T_accad_row5_col2 {\n",
       "  background-color: #034267;\n",
       "  color: #f1f1f1;\n",
       "}\n",
       "#T_accad_row5_col3 {\n",
       "  background-color: #89b1d4;\n",
       "  color: #000000;\n",
       "}\n",
       "#T_accad_row5_col8 {\n",
       "  background-color: #fef6fa;\n",
       "  color: #000000;\n",
       "}\n",
       "#T_accad_row6_col0 {\n",
       "  background-color: #2f8bbe;\n",
       "  color: #f1f1f1;\n",
       "}\n",
       "#T_accad_row6_col3 {\n",
       "  background-color: #6ba5cd;\n",
       "  color: #f1f1f1;\n",
       "}\n",
       "#T_accad_row6_col5, #T_accad_row7_col4 {\n",
       "  background-color: #034871;\n",
       "  color: #f1f1f1;\n",
       "}\n",
       "#T_accad_row6_col8 {\n",
       "  background-color: #e2dfee;\n",
       "  color: #000000;\n",
       "}\n",
       "#T_accad_row7_col1 {\n",
       "  background-color: #94b6d7;\n",
       "  color: #000000;\n",
       "}\n",
       "#T_accad_row7_col2 {\n",
       "  background-color: #9ab8d8;\n",
       "  color: #000000;\n",
       "}\n",
       "#T_accad_row7_col5 {\n",
       "  background-color: #d9d8ea;\n",
       "  color: #000000;\n",
       "}\n",
       "#T_accad_row7_col7 {\n",
       "  background-color: #d6d6e9;\n",
       "  color: #000000;\n",
       "}\n",
       "#T_accad_row7_col8 {\n",
       "  background-color: #d2d2e7;\n",
       "  color: #000000;\n",
       "}\n",
       "</style>\n",
       "<table id=\"T_accad\">\n",
       "  <thead>\n",
       "    <tr>\n",
       "      <th class=\"blank level0\" >&nbsp;</th>\n",
       "      <th id=\"T_accad_level0_col0\" class=\"col_heading level0 col0\" colspan=\"6\">Performance</th>\n",
       "      <th id=\"T_accad_level0_col6\" class=\"col_heading level0 col6\" colspan=\"3\">Bias</th>\n",
       "    </tr>\n",
       "    <tr>\n",
       "      <th class=\"blank level1\" >&nbsp;</th>\n",
       "      <th id=\"T_accad_level1_col0\" class=\"col_heading level1 col0\" >AUROC</th>\n",
       "      <th id=\"T_accad_level1_col1\" class=\"col_heading level1 col1\" >F1@B</th>\n",
       "      <th id=\"T_accad_level1_col2\" class=\"col_heading level1 col2\" >Macro F1</th>\n",
       "      <th id=\"T_accad_level1_col3\" class=\"col_heading level1 col3\" >Micro F1</th>\n",
       "      <th id=\"T_accad_level1_col4\" class=\"col_heading level1 col4\" >Precision</th>\n",
       "      <th id=\"T_accad_level1_col5\" class=\"col_heading level1 col5\" >Recall</th>\n",
       "      <th id=\"T_accad_level1_col6\" class=\"col_heading level1 col6\" >GMB Sub.</th>\n",
       "      <th id=\"T_accad_level1_col7\" class=\"col_heading level1 col7\" >GMB BPSN</th>\n",
       "      <th id=\"T_accad_level1_col8\" class=\"col_heading level1 col8\" >GMB BNSP</th>\n",
       "    </tr>\n",
       "    <tr>\n",
       "      <th class=\"index_name level0\" >Model</th>\n",
       "      <th class=\"blank col0\" >&nbsp;</th>\n",
       "      <th class=\"blank col1\" >&nbsp;</th>\n",
       "      <th class=\"blank col2\" >&nbsp;</th>\n",
       "      <th class=\"blank col3\" >&nbsp;</th>\n",
       "      <th class=\"blank col4\" >&nbsp;</th>\n",
       "      <th class=\"blank col5\" >&nbsp;</th>\n",
       "      <th class=\"blank col6\" >&nbsp;</th>\n",
       "      <th class=\"blank col7\" >&nbsp;</th>\n",
       "      <th class=\"blank col8\" >&nbsp;</th>\n",
       "    </tr>\n",
       "  </thead>\n",
       "  <tbody>\n",
       "    <tr>\n",
       "      <th id=\"T_accad_level0_row0\" class=\"row_heading level0 row0\" >glove-bilstm-bce</th>\n",
       "      <td id=\"T_accad_row0_col0\" class=\"data row0 col0\" >0.9353</td>\n",
       "      <td id=\"T_accad_row0_col1\" class=\"data row0 col1\" >0.5888</td>\n",
       "      <td id=\"T_accad_row0_col2\" class=\"data row0 col2\" >0.2521</td>\n",
       "      <td id=\"T_accad_row0_col3\" class=\"data row0 col3\" >0.5522</td>\n",
       "      <td id=\"T_accad_row0_col4\" class=\"data row0 col4\" >0.7234</td>\n",
       "      <td id=\"T_accad_row0_col5\" class=\"data row0 col5\" >0.4465</td>\n",
       "      <td id=\"T_accad_row0_col6\" class=\"data row0 col6\" >0.8590</td>\n",
       "      <td id=\"T_accad_row0_col7\" class=\"data row0 col7\" >0.8496</td>\n",
       "      <td id=\"T_accad_row0_col8\" class=\"data row0 col8\" >0.9387</td>\n",
       "    </tr>\n",
       "    <tr>\n",
       "      <th id=\"T_accad_level0_row1\" class=\"row_heading level0 row1\" >roberta-cbntrfl</th>\n",
       "      <td id=\"T_accad_row1_col0\" class=\"data row1 col0\" >0.9091</td>\n",
       "      <td id=\"T_accad_row1_col1\" class=\"data row1 col1\" >0.4389</td>\n",
       "      <td id=\"T_accad_row1_col2\" class=\"data row1 col2\" >0.2125</td>\n",
       "      <td id=\"T_accad_row1_col3\" class=\"data row1 col3\" >0.4252</td>\n",
       "      <td id=\"T_accad_row1_col4\" class=\"data row1 col4\" >0.4638</td>\n",
       "      <td id=\"T_accad_row1_col5\" class=\"data row1 col5\" >0.3924</td>\n",
       "      <td id=\"T_accad_row1_col6\" class=\"data row1 col6\" >0.7937</td>\n",
       "      <td id=\"T_accad_row1_col7\" class=\"data row1 col7\" >0.7382</td>\n",
       "      <td id=\"T_accad_row1_col8\" class=\"data row1 col8\" >0.8886</td>\n",
       "    </tr>\n",
       "    <tr>\n",
       "      <th id=\"T_accad_level0_row2\" class=\"row_heading level0 row2\" >roberta-dbfl</th>\n",
       "      <td id=\"T_accad_row2_col0\" class=\"data row2 col0\" >0.9032</td>\n",
       "      <td id=\"T_accad_row2_col1\" class=\"data row2 col1\" >0.4426</td>\n",
       "      <td id=\"T_accad_row2_col2\" class=\"data row2 col2\" >0.0384</td>\n",
       "      <td id=\"T_accad_row2_col3\" class=\"data row2 col3\" >0.0699</td>\n",
       "      <td id=\"T_accad_row2_col4\" class=\"data row2 col4\" >0.7908</td>\n",
       "      <td id=\"T_accad_row2_col5\" class=\"data row2 col5\" >0.0365</td>\n",
       "      <td id=\"T_accad_row2_col6\" class=\"data row2 col6\" >0.7903</td>\n",
       "      <td id=\"T_accad_row2_col7\" class=\"data row2 col7\" >0.7109</td>\n",
       "      <td id=\"T_accad_row2_col8\" class=\"data row2 col8\" >0.8935</td>\n",
       "    </tr>\n",
       "    <tr>\n",
       "      <th id=\"T_accad_level0_row3\" class=\"row_heading level0 row3\" >roberta-fl</th>\n",
       "      <td id=\"T_accad_row3_col0\" class=\"data row3 col0\" >0.9065</td>\n",
       "      <td id=\"T_accad_row3_col1\" class=\"data row3 col1\" >0.4318</td>\n",
       "      <td id=\"T_accad_row3_col2\" class=\"data row3 col2\" >0.1341</td>\n",
       "      <td id=\"T_accad_row3_col3\" class=\"data row3 col3\" >0.2145</td>\n",
       "      <td id=\"T_accad_row3_col4\" class=\"data row3 col4\" >0.6725</td>\n",
       "      <td id=\"T_accad_row3_col5\" class=\"data row3 col5\" >0.1276</td>\n",
       "      <td id=\"T_accad_row3_col6\" class=\"data row3 col6\" >0.7925</td>\n",
       "      <td id=\"T_accad_row3_col7\" class=\"data row3 col7\" >0.7452</td>\n",
       "      <td id=\"T_accad_row3_col8\" class=\"data row3 col8\" >0.8829</td>\n",
       "    </tr>\n",
       "    <tr>\n",
       "      <th id=\"T_accad_level0_row4\" class=\"row_heading level0 row4\" >roberta-large-bce</th>\n",
       "      <td id=\"T_accad_row4_col0\" class=\"data row4 col0\" >0.9116</td>\n",
       "      <td id=\"T_accad_row4_col1\" class=\"data row4 col1\" >0.4614</td>\n",
       "      <td id=\"T_accad_row4_col2\" class=\"data row4 col2\" >0.1805</td>\n",
       "      <td id=\"T_accad_row4_col3\" class=\"data row4 col3\" >0.3127</td>\n",
       "      <td id=\"T_accad_row4_col4\" class=\"data row4 col4\" >0.6678</td>\n",
       "      <td id=\"T_accad_row4_col5\" class=\"data row4 col5\" >0.2042</td>\n",
       "      <td id=\"T_accad_row4_col6\" class=\"data row4 col6\" >0.7981</td>\n",
       "      <td id=\"T_accad_row4_col7\" class=\"data row4 col7\" >0.7615</td>\n",
       "      <td id=\"T_accad_row4_col8\" class=\"data row4 col8\" >0.8840</td>\n",
       "    </tr>\n",
       "    <tr>\n",
       "      <th id=\"T_accad_level0_row5\" class=\"row_heading level0 row5\" >roberta-pwbce</th>\n",
       "      <td id=\"T_accad_row5_col0\" class=\"data row5 col0\" >0.9053</td>\n",
       "      <td id=\"T_accad_row5_col1\" class=\"data row5 col1\" >0.3817</td>\n",
       "      <td id=\"T_accad_row5_col2\" class=\"data row5 col2\" >0.2586</td>\n",
       "      <td id=\"T_accad_row5_col3\" class=\"data row5 col3\" >0.2861</td>\n",
       "      <td id=\"T_accad_row5_col4\" class=\"data row5 col4\" >0.1746</td>\n",
       "      <td id=\"T_accad_row5_col5\" class=\"data row5 col5\" >0.7919</td>\n",
       "      <td id=\"T_accad_row5_col6\" class=\"data row5 col6\" >0.7903</td>\n",
       "      <td id=\"T_accad_row5_col7\" class=\"data row5 col7\" >0.7340</td>\n",
       "      <td id=\"T_accad_row5_col8\" class=\"data row5 col8\" >0.8835</td>\n",
       "    </tr>\n",
       "    <tr>\n",
       "      <th id=\"T_accad_level0_row6\" class=\"row_heading level0 row6\" >roberta-pwfl</th>\n",
       "      <td id=\"T_accad_row6_col0\" class=\"data row6 col0\" >0.9049</td>\n",
       "      <td id=\"T_accad_row6_col1\" class=\"data row6 col1\" >0.3683</td>\n",
       "      <td id=\"T_accad_row6_col2\" class=\"data row6 col2\" >0.2674</td>\n",
       "      <td id=\"T_accad_row6_col3\" class=\"data row6 col3\" >0.3200</td>\n",
       "      <td id=\"T_accad_row6_col4\" class=\"data row6 col4\" >0.2037</td>\n",
       "      <td id=\"T_accad_row6_col5\" class=\"data row6 col5\" >0.7459</td>\n",
       "      <td id=\"T_accad_row6_col6\" class=\"data row6 col6\" >0.7905</td>\n",
       "      <td id=\"T_accad_row6_col7\" class=\"data row6 col7\" >0.7068</td>\n",
       "      <td id=\"T_accad_row6_col8\" class=\"data row6 col8\" >0.8924</td>\n",
       "    </tr>\n",
       "    <tr>\n",
       "      <th id=\"T_accad_level0_row7\" class=\"row_heading level0 row7\" >unfreeze-glove-resnet44-bce</th>\n",
       "      <td id=\"T_accad_row7_col0\" class=\"data row7 col0\" >0.8509</td>\n",
       "      <td id=\"T_accad_row7_col1\" class=\"data row7 col1\" >0.4611</td>\n",
       "      <td id=\"T_accad_row7_col2\" class=\"data row7 col2\" >0.1308</td>\n",
       "      <td id=\"T_accad_row7_col3\" class=\"data row7 col3\" >0.3124</td>\n",
       "      <td id=\"T_accad_row7_col4\" class=\"data row7 col4\" >0.7543</td>\n",
       "      <td id=\"T_accad_row7_col5\" class=\"data row7 col5\" >0.1970</td>\n",
       "      <td id=\"T_accad_row7_col6\" class=\"data row7 col6\" >0.7918</td>\n",
       "      <td id=\"T_accad_row7_col7\" class=\"data row7 col7\" >0.7386</td>\n",
       "      <td id=\"T_accad_row7_col8\" class=\"data row7 col8\" >0.8965</td>\n",
       "    </tr>\n",
       "  </tbody>\n",
       "</table>\n"
      ],
      "text/plain": [
       "<pandas.io.formats.style.Styler at 0x7f41eb528fd0>"
      ]
     },
     "execution_count": 101,
     "metadata": {},
     "output_type": "execute_result"
    }
   ],
   "source": [
    "perf_and_bias_metric_per_model_style = perf_and_bias_metric_per_model_df.style.background_gradient(axis=0)\n",
    "perf_and_bias_metric_per_model_style = perf_and_bias_metric_per_model_style.format(precision=4)\n",
    "#perf_and_bias_metric_per_model_style = perf_and_bias_metric_per_model_style.applymap_index(lambda v: \"rotatebox:{45}--rwrap--latex;\", axis=1)\n",
    "\n",
    "perf_and_bias_metric_per_model_style"
   ]
  },
  {
   "cell_type": "code",
   "execution_count": 102,
   "metadata": {},
   "outputs": [
    {
     "name": "stdout",
     "output_type": "stream",
     "text": [
      "\\begin{tabular}{lllllll||lll}\n",
      "\\toprule\n",
      " & \\multicolumn{6}{c||}{Performance} & \\multicolumn{3}{c||}{Bias} \\\\\n",
      " & AUROC & F1@B & Macro F1 & Micro F1 & Precision & Recall & GMB Sub. & GMB BPSN & GMB BNSP \\\\\n",
      "Model &  &  &  &  &  &  &  &  &  \\\\\n",
      "\\midrule\n",
      "glove-bilstm-bce & {\\cellcolor[HTML]{023858}} \\color[HTML]{F1F1F1} 0.9353 & {\\cellcolor[HTML]{023858}} \\color[HTML]{F1F1F1} 0.5888 & {\\cellcolor[HTML]{034A74}} \\color[HTML]{F1F1F1} 0.2521 & {\\cellcolor[HTML]{023858}} \\color[HTML]{F1F1F1} 0.5522 & {\\cellcolor[HTML]{045687}} \\color[HTML]{F1F1F1} 0.7234 & {\\cellcolor[HTML]{60A1CA}} \\color[HTML]{F1F1F1} 0.4465 & {\\cellcolor[HTML]{023858}} \\color[HTML]{F1F1F1} 0.8590 & {\\cellcolor[HTML]{023858}} \\color[HTML]{F1F1F1} 0.8496 & {\\cellcolor[HTML]{023858}} \\color[HTML]{F1F1F1} 0.9387 \\\\\n",
      "roberta-cbntrfl & {\\cellcolor[HTML]{1C7FB8}} \\color[HTML]{F1F1F1} 0.9091 & {\\cellcolor[HTML]{B9C6E0}} \\color[HTML]{000000} 0.4389 & {\\cellcolor[HTML]{056EAD}} \\color[HTML]{F1F1F1} 0.2125 & {\\cellcolor[HTML]{0A73B2}} \\color[HTML]{F1F1F1} 0.4252 & {\\cellcolor[HTML]{80AED2}} \\color[HTML]{F1F1F1} 0.4638 & {\\cellcolor[HTML]{80AED2}} \\color[HTML]{F1F1F1} 0.3924 & {\\cellcolor[HTML]{F8F1F8}} \\color[HTML]{000000} 0.7937 & {\\cellcolor[HTML]{D7D6E9}} \\color[HTML]{000000} 0.7382 & {\\cellcolor[HTML]{F0EAF4}} \\color[HTML]{000000} 0.8886 \\\\\n",
      "roberta-dbfl & {\\cellcolor[HTML]{3991C1}} \\color[HTML]{F1F1F1} 0.9032 & {\\cellcolor[HTML]{B3C3DE}} \\color[HTML]{000000} 0.4426 & {\\cellcolor[HTML]{FFF7FB}} \\color[HTML]{000000} 0.0384 & {\\cellcolor[HTML]{FFF7FB}} \\color[HTML]{000000} 0.0699 & {\\cellcolor[HTML]{023858}} \\color[HTML]{F1F1F1} 0.7908 & {\\cellcolor[HTML]{FFF7FB}} \\color[HTML]{000000} 0.0365 & {\\cellcolor[HTML]{FFF7FB}} \\color[HTML]{000000} 0.7903 & {\\cellcolor[HTML]{FBF3F9}} \\color[HTML]{000000} 0.7109 & {\\cellcolor[HTML]{DEDCEC}} \\color[HTML]{000000} 0.8935 \\\\\n",
      "roberta-fl & {\\cellcolor[HTML]{2987BC}} \\color[HTML]{F1F1F1} 0.9065 & {\\cellcolor[HTML]{C4CBE3}} \\color[HTML]{000000} 0.4318 & {\\cellcolor[HTML]{96B6D7}} \\color[HTML]{000000} 0.1341 & {\\cellcolor[HTML]{C0C9E2}} \\color[HTML]{000000} 0.2145 & {\\cellcolor[HTML]{0566A0}} \\color[HTML]{F1F1F1} 0.6725 & {\\cellcolor[HTML]{EDE8F3}} \\color[HTML]{000000} 0.1276 & {\\cellcolor[HTML]{FAF3F9}} \\color[HTML]{000000} 0.7925 & {\\cellcolor[HTML]{CACEE5}} \\color[HTML]{000000} 0.7452 & {\\cellcolor[HTML]{FFF7FB}} \\color[HTML]{000000} 0.8829 \\\\\n",
      "roberta-large-bce & {\\cellcolor[HTML]{1077B4}} \\color[HTML]{F1F1F1} 0.9116 & {\\cellcolor[HTML]{93B5D6}} \\color[HTML]{000000} 0.4614 & {\\cellcolor[HTML]{3991C1}} \\color[HTML]{F1F1F1} 0.1805 & {\\cellcolor[HTML]{73A9CF}} \\color[HTML]{F1F1F1} 0.3127 & {\\cellcolor[HTML]{0567A2}} \\color[HTML]{F1F1F1} 0.6678 & {\\cellcolor[HTML]{D7D6E9}} \\color[HTML]{000000} 0.2042 & {\\cellcolor[HTML]{EEE8F3}} \\color[HTML]{000000} 0.7981 & {\\cellcolor[HTML]{A2BCDA}} \\color[HTML]{000000} 0.7615 & {\\cellcolor[HTML]{FCF4FA}} \\color[HTML]{000000} 0.8840 \\\\\n",
      "roberta-pwbce & {\\cellcolor[HTML]{2D8ABD}} \\color[HTML]{F1F1F1} 0.9053 & {\\cellcolor[HTML]{F6EFF7}} \\color[HTML]{000000} 0.3817 & {\\cellcolor[HTML]{034267}} \\color[HTML]{F1F1F1} 0.2586 & {\\cellcolor[HTML]{89B1D4}} \\color[HTML]{000000} 0.2861 & {\\cellcolor[HTML]{FFF7FB}} \\color[HTML]{000000} 0.1746 & {\\cellcolor[HTML]{023858}} \\color[HTML]{F1F1F1} 0.7919 & {\\cellcolor[HTML]{FFF7FB}} \\color[HTML]{000000} 0.7903 & {\\cellcolor[HTML]{DEDCEC}} \\color[HTML]{000000} 0.7340 & {\\cellcolor[HTML]{FEF6FA}} \\color[HTML]{000000} 0.8835 \\\\\n",
      "roberta-pwfl & {\\cellcolor[HTML]{2F8BBE}} \\color[HTML]{F1F1F1} 0.9049 & {\\cellcolor[HTML]{FFF7FB}} \\color[HTML]{000000} 0.3683 & {\\cellcolor[HTML]{023858}} \\color[HTML]{F1F1F1} 0.2674 & {\\cellcolor[HTML]{6BA5CD}} \\color[HTML]{F1F1F1} 0.3200 & {\\cellcolor[HTML]{F8F1F8}} \\color[HTML]{000000} 0.2037 & {\\cellcolor[HTML]{034871}} \\color[HTML]{F1F1F1} 0.7459 & {\\cellcolor[HTML]{FFF7FB}} \\color[HTML]{000000} 0.7905 & {\\cellcolor[HTML]{FFF7FB}} \\color[HTML]{000000} 0.7068 & {\\cellcolor[HTML]{E2DFEE}} \\color[HTML]{000000} 0.8924 \\\\\n",
      "unfreeze-glove-resnet44-bce & {\\cellcolor[HTML]{FFF7FB}} \\color[HTML]{000000} 0.8509 & {\\cellcolor[HTML]{94B6D7}} \\color[HTML]{000000} 0.4611 & {\\cellcolor[HTML]{9AB8D8}} \\color[HTML]{000000} 0.1308 & {\\cellcolor[HTML]{73A9CF}} \\color[HTML]{F1F1F1} 0.3124 & {\\cellcolor[HTML]{034871}} \\color[HTML]{F1F1F1} 0.7543 & {\\cellcolor[HTML]{D9D8EA}} \\color[HTML]{000000} 0.1970 & {\\cellcolor[HTML]{FCF4FA}} \\color[HTML]{000000} 0.7918 & {\\cellcolor[HTML]{D6D6E9}} \\color[HTML]{000000} 0.7386 & {\\cellcolor[HTML]{D2D2E7}} \\color[HTML]{000000} 0.8965 \\\\\n",
      "\\bottomrule\n",
      "\\end{tabular}\n",
      "\n"
     ]
    }
   ],
   "source": [
    "perf_and_bias_metric_per_model_latex = perf_and_bias_metric_per_model_style.to_latex(\n",
    "    convert_css=True,\n",
    "    column_format=\"lllllll||lll\",\n",
    "    multicol_align=\"c||\",\n",
    "    hrules=True,\n",
    ")\n",
    "print(perf_and_bias_metric_per_model_latex)"
   ]
  },
  {
   "cell_type": "markdown",
   "metadata": {},
   "source": [
    "Il faut encadrer ce code par :\n",
    "```latex\n",
    "\\usepackage{booktabs}\n",
    "\\usepackage[table]{xcolor}\n",
    "\\usepackage{graphicx}\n",
    "\n",
    "\\begin{table*}[htb!]\n",
    "\\resizebox{1.0\\linewidth}{!}{\n",
    "%%%\n",
    "\n",
    "% Write HERE\n",
    "\n",
    "%%%\n",
    "}\n",
    "\\caption{Model performance results}\n",
    "\\label{tab:results}\n",
    "\\end{table*}\n",
    "```"
   ]
  },
  {
   "cell_type": "markdown",
   "metadata": {},
   "source": [
    "#### Performance en fonction du temps par batch et de la taille du modèle"
   ]
  },
  {
   "cell_type": "code",
   "execution_count": 94,
   "metadata": {},
   "outputs": [],
   "source": [
    "perf_and_info_per_model_df = perf_and_bias_metric_per_model_df.copy()\n",
    "\n",
    "params_dict = {session_name:params for session_name, _, params, _ in SELECTED_SESSION_INFO}\n",
    "batchtime_dict = {session_name:batchtime for session_name, _, _, batchtime in SELECTED_SESSION_INFO}\n",
    "model_type_dict = {session_name:model_type for session_name, model_type, _, _ in SELECTED_SESSION_INFO}\n",
    "\n",
    "perf_and_info_per_model_df[\"parameters\"] = perf_and_info_per_model_df.apply(lambda row: params_dict[row.name], axis=1)\n",
    "perf_and_info_per_model_df[\"batch_time\"] = perf_and_info_per_model_df.apply(lambda row: batchtime_dict[row.name], axis=1)\n",
    "perf_and_info_per_model_df[\"model_type\"] = perf_and_info_per_model_df.apply(lambda row: model_type_dict[row.name], axis=1)\n",
    "\n",
    "perf_and_info_per_model_df.index = perf_and_info_per_model_df.index.map(lambda session_name: session_name.split(\"_\")[0])"
   ]
  },
  {
   "cell_type": "code",
   "execution_count": 95,
   "metadata": {},
   "outputs": [
    {
     "data": {
      "text/html": [
       "<div>\n",
       "<style scoped>\n",
       "    .dataframe tbody tr th:only-of-type {\n",
       "        vertical-align: middle;\n",
       "    }\n",
       "\n",
       "    .dataframe tbody tr th {\n",
       "        vertical-align: top;\n",
       "    }\n",
       "\n",
       "    .dataframe thead th {\n",
       "        text-align: right;\n",
       "    }\n",
       "</style>\n",
       "<table border=\"1\" class=\"dataframe\">\n",
       "  <thead>\n",
       "    <tr style=\"text-align: right;\">\n",
       "      <th></th>\n",
       "      <th>auroc_macro</th>\n",
       "      <th>best_f1_micro</th>\n",
       "      <th>f1_macro_50</th>\n",
       "      <th>f1_micro_50</th>\n",
       "      <th>precision_micro_50</th>\n",
       "      <th>recall_micro_50</th>\n",
       "      <th>generalized_subgroup_auc</th>\n",
       "      <th>generalized_bpsn_auc</th>\n",
       "      <th>generalized_bnsp_auc</th>\n",
       "      <th>parameters</th>\n",
       "      <th>batch_time</th>\n",
       "      <th>model_type</th>\n",
       "    </tr>\n",
       "    <tr>\n",
       "      <th>session_name</th>\n",
       "      <th></th>\n",
       "      <th></th>\n",
       "      <th></th>\n",
       "      <th></th>\n",
       "      <th></th>\n",
       "      <th></th>\n",
       "      <th></th>\n",
       "      <th></th>\n",
       "      <th></th>\n",
       "      <th></th>\n",
       "      <th></th>\n",
       "      <th></th>\n",
       "    </tr>\n",
       "  </thead>\n",
       "  <tbody>\n",
       "    <tr>\n",
       "      <th>glove-bilstm-bce</th>\n",
       "      <td>0.935262</td>\n",
       "      <td>0.588833</td>\n",
       "      <td>0.25206</td>\n",
       "      <td>0.552191</td>\n",
       "      <td>0.723408</td>\n",
       "      <td>0.446510</td>\n",
       "      <td>0.858984</td>\n",
       "      <td>0.849617</td>\n",
       "      <td>0.938739</td>\n",
       "      <td>141046211</td>\n",
       "      <td>28</td>\n",
       "      <td>rnn</td>\n",
       "    </tr>\n",
       "    <tr>\n",
       "      <th>roberta-cbntrfl</th>\n",
       "      <td>0.909091</td>\n",
       "      <td>0.438919</td>\n",
       "      <td>0.21246</td>\n",
       "      <td>0.425160</td>\n",
       "      <td>0.463837</td>\n",
       "      <td>0.392436</td>\n",
       "      <td>0.793659</td>\n",
       "      <td>0.738241</td>\n",
       "      <td>0.888559</td>\n",
       "      <td>211293320</td>\n",
       "      <td>11</td>\n",
       "      <td>bert</td>\n",
       "    </tr>\n",
       "  </tbody>\n",
       "</table>\n",
       "</div>"
      ],
      "text/plain": [
       "                  auroc_macro  best_f1_micro  f1_macro_50  f1_micro_50  \\\n",
       "session_name                                                             \n",
       "glove-bilstm-bce     0.935262       0.588833      0.25206     0.552191   \n",
       "roberta-cbntrfl      0.909091       0.438919      0.21246     0.425160   \n",
       "\n",
       "                  precision_micro_50  recall_micro_50  \\\n",
       "session_name                                            \n",
       "glove-bilstm-bce            0.723408         0.446510   \n",
       "roberta-cbntrfl             0.463837         0.392436   \n",
       "\n",
       "                  generalized_subgroup_auc  generalized_bpsn_auc  \\\n",
       "session_name                                                       \n",
       "glove-bilstm-bce                  0.858984              0.849617   \n",
       "roberta-cbntrfl                   0.793659              0.738241   \n",
       "\n",
       "                  generalized_bnsp_auc  parameters  batch_time model_type  \n",
       "session_name                                                               \n",
       "glove-bilstm-bce              0.938739   141046211          28        rnn  \n",
       "roberta-cbntrfl               0.888559   211293320          11       bert  "
      ]
     },
     "execution_count": 95,
     "metadata": {},
     "output_type": "execute_result"
    }
   ],
   "source": [
    "perf_and_info_per_model_df.head(2)"
   ]
  },
  {
   "cell_type": "code",
   "execution_count": 114,
   "metadata": {},
   "outputs": [
    {
     "data": {
      "image/png": "[encoded data removed]",
      "text/plain": [
       "<Figure size 434.125x360 with 1 Axes>"
      ]
     },
     "metadata": {
      "needs_background": "light"
     },
     "output_type": "display_data"
    }
   ],
   "source": [
    "rename_label_dict = {\n",
    "    \"model_type\":\"Model type\",\n",
    "    \"parameters\":\"Parameters\",\n",
    "    \"0.5\":\"50M\",\n",
    "    \"1.0\":\"100M\",\n",
    "    \"1.5\":\"150M\",\n",
    "    \"2.0\":\"200M\",\n",
    "    \"2.5\":\"250M\",\n",
    "}\n",
    "\n",
    "g = sns.relplot(\n",
    "    data=perf_and_info_per_model_df,\n",
    "    x=\"batch_time\", y=\"auroc_macro\",\n",
    "    size=\"parameters\",\n",
    "    hue=\"model_type\", sizes=(10, 500),\n",
    "    alpha=0.5,\n",
    ")\n",
    "\n",
    "for t in g._legend.texts:\n",
    "    t.set_text(rename_label_dict.get(t.get_text(), t.get_text()))\n",
    "#g.set(xscale=\"log\", yscale=\"log\")\n",
    "g.ax.xaxis.grid(True)\n",
    "g.ax.yaxis.grid(True)\n",
    "plt.xlabel(\"Batch time\")\n",
    "plt.ylabel(\"Macro AUROC\")\n",
    "\n",
    "#for i in range(perf_and_info_per_model_df.shape[0]):\n",
    "#    g.ax.text(perf_and_info_per_model_df.batch_time[i] + 2, perf_and_info_per_model_df.auroc_macro[i] + 0.005, perf_and_info_per_model_df.index[i], horizontalalignment='center', size='medium', color='black', weight='semibold')\n",
    "\n",
    "for k, v in perf_and_info_per_model_df.iterrows():\n",
    "    g.ax.annotate(k, (v.batch_time, v.auroc_macro),\n",
    "                xytext=(10,5), textcoords='offset points',\n",
    "                family='sans-serif', fontsize=8, color='darkslategrey')\n",
    "\n",
    "plt.savefig('perf_and_info_per_model_df.svg')\n",
    "plt.show()"
   ]
  },
  {
   "cell_type": "markdown",
   "metadata": {},
   "source": [
    "### Histograme AUC par modèle et par identité"
   ]
  },
  {
   "cell_type": "code",
   "execution_count": 13,
   "metadata": {},
   "outputs": [
    {
     "data": {
      "application/vnd.jupyter.widget-view+json": {
       "model_id": "7f67519efe644f4ea28a384593efe01c",
       "version_major": 2,
       "version_minor": 0
      },
      "text/plain": [
       "  0%|          | 0/8 [00:00<?, ?it/s]"
      ]
     },
     "metadata": {},
     "output_type": "display_data"
    }
   ],
   "source": [
    "identity_aur_per_sub_per_model_df = groupby_test_df.progress_apply(identity_aur_per_sub_per_model)\n",
    "identity_aur_per_sub_per_model_df.reset_index(inplace=True)\n",
    "identity_aur_per_sub_per_model_df = identity_aur_per_sub_per_model_df.melt(id_vars=[\"session_name\", \"subgroup\"], value_vars=[\"subgroup_auc\", \"bpsn_auc\", \"bnsp_auc\"])"
   ]
  },
  {
   "cell_type": "code",
   "execution_count": 17,
   "metadata": {},
   "outputs": [
    {
     "data": {
      "text/html": [
       "<div>\n",
       "<style scoped>\n",
       "    .dataframe tbody tr th:only-of-type {\n",
       "        vertical-align: middle;\n",
       "    }\n",
       "\n",
       "    .dataframe tbody tr th {\n",
       "        vertical-align: top;\n",
       "    }\n",
       "\n",
       "    .dataframe thead th {\n",
       "        text-align: right;\n",
       "    }\n",
       "</style>\n",
       "<table border=\"1\" class=\"dataframe\">\n",
       "  <thead>\n",
       "    <tr style=\"text-align: right;\">\n",
       "      <th></th>\n",
       "      <th>session_name</th>\n",
       "      <th>subgroup</th>\n",
       "      <th>variable</th>\n",
       "      <th>value</th>\n",
       "    </tr>\n",
       "  </thead>\n",
       "  <tbody>\n",
       "    <tr>\n",
       "      <th>0</th>\n",
       "      <td>glove-bilstm-bce</td>\n",
       "      <td>male</td>\n",
       "      <td>subgroup_auc</td>\n",
       "      <td>0.904540</td>\n",
       "    </tr>\n",
       "    <tr>\n",
       "      <th>1</th>\n",
       "      <td>glove-bilstm-bce</td>\n",
       "      <td>female</td>\n",
       "      <td>subgroup_auc</td>\n",
       "      <td>0.910807</td>\n",
       "    </tr>\n",
       "    <tr>\n",
       "      <th>2</th>\n",
       "      <td>glove-bilstm-bce</td>\n",
       "      <td>black</td>\n",
       "      <td>subgroup_auc</td>\n",
       "      <td>0.811313</td>\n",
       "    </tr>\n",
       "    <tr>\n",
       "      <th>3</th>\n",
       "      <td>glove-bilstm-bce</td>\n",
       "      <td>white</td>\n",
       "      <td>subgroup_auc</td>\n",
       "      <td>0.827163</td>\n",
       "    </tr>\n",
       "    <tr>\n",
       "      <th>4</th>\n",
       "      <td>glove-bilstm-bce</td>\n",
       "      <td>homosexual_gay_or_lesbian</td>\n",
       "      <td>subgroup_auc</td>\n",
       "      <td>0.811624</td>\n",
       "    </tr>\n",
       "    <tr>\n",
       "      <th>...</th>\n",
       "      <td>...</td>\n",
       "      <td>...</td>\n",
       "      <td>...</td>\n",
       "      <td>...</td>\n",
       "    </tr>\n",
       "    <tr>\n",
       "      <th>211</th>\n",
       "      <td>unfreeze-glove-resnet44-bce</td>\n",
       "      <td>homosexual_gay_or_lesbian</td>\n",
       "      <td>bnsp_auc</td>\n",
       "      <td>0.895608</td>\n",
       "    </tr>\n",
       "    <tr>\n",
       "      <th>212</th>\n",
       "      <td>unfreeze-glove-resnet44-bce</td>\n",
       "      <td>christian</td>\n",
       "      <td>bnsp_auc</td>\n",
       "      <td>0.850146</td>\n",
       "    </tr>\n",
       "    <tr>\n",
       "      <th>213</th>\n",
       "      <td>unfreeze-glove-resnet44-bce</td>\n",
       "      <td>jewish</td>\n",
       "      <td>bnsp_auc</td>\n",
       "      <td>0.880808</td>\n",
       "    </tr>\n",
       "    <tr>\n",
       "      <th>214</th>\n",
       "      <td>unfreeze-glove-resnet44-bce</td>\n",
       "      <td>muslim</td>\n",
       "      <td>bnsp_auc</td>\n",
       "      <td>0.904757</td>\n",
       "    </tr>\n",
       "    <tr>\n",
       "      <th>215</th>\n",
       "      <td>unfreeze-glove-resnet44-bce</td>\n",
       "      <td>psychiatric_or_mental_illness</td>\n",
       "      <td>bnsp_auc</td>\n",
       "      <td>0.887012</td>\n",
       "    </tr>\n",
       "  </tbody>\n",
       "</table>\n",
       "<p>216 rows × 4 columns</p>\n",
       "</div>"
      ],
      "text/plain": [
       "                    session_name                       subgroup      variable  \\\n",
       "0               glove-bilstm-bce                           male  subgroup_auc   \n",
       "1               glove-bilstm-bce                         female  subgroup_auc   \n",
       "2               glove-bilstm-bce                          black  subgroup_auc   \n",
       "3               glove-bilstm-bce                          white  subgroup_auc   \n",
       "4               glove-bilstm-bce      homosexual_gay_or_lesbian  subgroup_auc   \n",
       "..                           ...                            ...           ...   \n",
       "211  unfreeze-glove-resnet44-bce      homosexual_gay_or_lesbian      bnsp_auc   \n",
       "212  unfreeze-glove-resnet44-bce                      christian      bnsp_auc   \n",
       "213  unfreeze-glove-resnet44-bce                         jewish      bnsp_auc   \n",
       "214  unfreeze-glove-resnet44-bce                         muslim      bnsp_auc   \n",
       "215  unfreeze-glove-resnet44-bce  psychiatric_or_mental_illness      bnsp_auc   \n",
       "\n",
       "        value  \n",
       "0    0.904540  \n",
       "1    0.910807  \n",
       "2    0.811313  \n",
       "3    0.827163  \n",
       "4    0.811624  \n",
       "..        ...  \n",
       "211  0.895608  \n",
       "212  0.850146  \n",
       "213  0.880808  \n",
       "214  0.904757  \n",
       "215  0.887012  \n",
       "\n",
       "[216 rows x 4 columns]"
      ]
     },
     "execution_count": 17,
     "metadata": {},
     "output_type": "execute_result"
    }
   ],
   "source": [
    "identity_aur_per_sub_per_model_df"
   ]
  },
  {
   "cell_type": "code",
   "execution_count": 19,
   "metadata": {},
   "outputs": [],
   "source": [
    "# Rename session_name / subgroup\n",
    "identity_aur_per_sub_per_model_df[\"session_name\"] = identity_aur_per_sub_per_model_df[\"session_name\"].apply(lambda session_name: session_name.split(\"_\")[0])\n",
    "\n",
    "renam_subgroup_dict = {\n",
    "    \"homosexual_gay_or_lesbian\":\"homosexual\",\n",
    "    \"psychiatric_or_mental_illness\":\"psychiatric\"\n",
    "}\n",
    "identity_aur_per_sub_per_model_df[\"subgroup\"] = identity_aur_per_sub_per_model_df[\"subgroup\"].apply(lambda subgroup: renam_subgroup_dict.get(subgroup, subgroup))"
   ]
  },
  {
   "cell_type": "code",
   "execution_count": 32,
   "metadata": {},
   "outputs": [
    {
     "data": {
      "application/vnd.plotly.v1+json": {
       "config": {
        "plotlyServerURL": "https://plot.ly"
       },
       "data": [
        {
         "alignmentgroup": "True",
         "hovertemplate": "Model=glove-bilstm-bce<br>variable=subgroup_auc<br>=%{x}<br>AUC=%{y}<extra></extra>",
         "legendgroup": "glove-bilstm-bce",
         "marker": {
          "color": "#636efa",
          "pattern": {
           "shape": ""
          }
         },
         "name": "glove-bilstm-bce",
         "offsetgroup": "glove-bilstm-bce",
         "orientation": "v",
         "showlegend": true,
         "textposition": "auto",
         "type": "bar",
         "x": [
          "male",
          "female",
          "black",
          "white",
          "homosexual",
          "christian",
          "jewish",
          "muslim",
          "psychiatric"
         ],
         "xaxis": "x",
         "y": [
          0.9045404704143438,
          0.9108074223642305,
          0.8113132230240604,
          0.8271626393026592,
          0.8116240266963292,
          0.921168657093228,
          0.8757823383860436,
          0.8269938340307781,
          0.8995690659212671
         ],
         "yaxis": "y"
        },
        {
         "alignmentgroup": "True",
         "hovertemplate": "Model=glove-bilstm-bce<br>variable=bpsn_auc<br>=%{x}<br>AUC=%{y}<extra></extra>",
         "legendgroup": "glove-bilstm-bce",
         "marker": {
          "color": "#636efa",
          "pattern": {
           "shape": ""
          }
         },
         "name": "glove-bilstm-bce",
         "offsetgroup": "glove-bilstm-bce",
         "orientation": "v",
         "showlegend": false,
         "textposition": "auto",
         "type": "bar",
         "x": [
          "male",
          "female",
          "black",
          "white",
          "homosexual",
          "christian",
          "jewish",
          "muslim",
          "psychiatric"
         ],
         "xaxis": "x2",
         "y": [
          0.9074224382094732,
          0.9202000813067212,
          0.7777061378840803,
          0.7947910706980712,
          0.8099515659850296,
          0.9366365316502323,
          0.8782139549440099,
          0.8329473910935435,
          0.8836563693143678
         ],
         "yaxis": "y2"
        },
        {
         "alignmentgroup": "True",
         "hovertemplate": "Model=glove-bilstm-bce<br>variable=bnsp_auc<br>=%{x}<br>AUC=%{y}<extra></extra>",
         "legendgroup": "glove-bilstm-bce",
         "marker": {
          "color": "#636efa",
          "pattern": {
           "shape": ""
          }
         },
         "name": "glove-bilstm-bce",
         "offsetgroup": "glove-bilstm-bce",
         "orientation": "v",
         "showlegend": false,
         "textposition": "auto",
         "type": "bar",
         "x": [
          "male",
          "female",
          "black",
          "white",
          "homosexual",
          "christian",
          "jewish",
          "muslim",
          "psychiatric"
         ],
         "xaxis": "x3",
         "y": [
          0.9355701042360111,
          0.9297864879124675,
          0.9534367161316275,
          0.954629803043359,
          0.9406750257309866,
          0.9192253612086247,
          0.9349090474700028,
          0.9396426483000707,
          0.9439397082157814
         ],
         "yaxis": "y3"
        },
        {
         "alignmentgroup": "True",
         "hovertemplate": "Model=roberta-cbntrfl<br>variable=subgroup_auc<br>=%{x}<br>AUC=%{y}<extra></extra>",
         "legendgroup": "roberta-cbntrfl",
         "marker": {
          "color": "#EF553B",
          "pattern": {
           "shape": ""
          }
         },
         "name": "roberta-cbntrfl",
         "offsetgroup": "roberta-cbntrfl",
         "orientation": "v",
         "showlegend": true,
         "textposition": "auto",
         "type": "bar",
         "x": [
          "male",
          "female",
          "black",
          "white",
          "homosexual",
          "christian",
          "jewish",
          "muslim",
          "psychiatric"
         ],
         "xaxis": "x",
         "y": [
          0.8385119611843901,
          0.8383863338768734,
          0.7477673330098151,
          0.7623709430809729,
          0.7379777530589544,
          0.8752632443795554,
          0.8024972449212983,
          0.777088976385282,
          0.8295946890286514
         ],
         "yaxis": "y"
        },
        {
         "alignmentgroup": "True",
         "hovertemplate": "Model=roberta-cbntrfl<br>variable=bpsn_auc<br>=%{x}<br>AUC=%{y}<extra></extra>",
         "legendgroup": "roberta-cbntrfl",
         "marker": {
          "color": "#EF553B",
          "pattern": {
           "shape": ""
          }
         },
         "name": "roberta-cbntrfl",
         "offsetgroup": "roberta-cbntrfl",
         "orientation": "v",
         "showlegend": false,
         "textposition": "auto",
         "type": "bar",
         "x": [
          "male",
          "female",
          "black",
          "white",
          "homosexual",
          "christian",
          "jewish",
          "muslim",
          "psychiatric"
         ],
         "xaxis": "x2",
         "y": [
          0.778745635656166,
          0.8086550337857028,
          0.6499980573974306,
          0.6532187035508445,
          0.7393123957874678,
          0.8727518305876685,
          0.7637325328788759,
          0.7411348188842687,
          0.8132785697797518
         ],
         "yaxis": "y2"
        },
        {
         "alignmentgroup": "True",
         "hovertemplate": "Model=roberta-cbntrfl<br>variable=bnsp_auc<br>=%{x}<br>AUC=%{y}<extra></extra>",
         "legendgroup": "roberta-cbntrfl",
         "marker": {
          "color": "#EF553B",
          "pattern": {
           "shape": ""
          }
         },
         "name": "roberta-cbntrfl",
         "offsetgroup": "roberta-cbntrfl",
         "orientation": "v",
         "showlegend": false,
         "textposition": "auto",
         "type": "bar",
         "x": [
          "male",
          "female",
          "black",
          "white",
          "homosexual",
          "christian",
          "jewish",
          "muslim",
          "psychiatric"
         ],
         "xaxis": "x3",
         "y": [
          0.9060922098486258,
          0.888073323237524,
          0.9116425126631702,
          0.9210859981668728,
          0.8605871566080779,
          0.8619692131275274,
          0.8926035450174394,
          0.8919045049983607,
          0.8751818077514859
         ],
         "yaxis": "y3"
        },
        {
         "alignmentgroup": "True",
         "hovertemplate": "Model=roberta-dbfl<br>variable=subgroup_auc<br>=%{x}<br>AUC=%{y}<extra></extra>",
         "legendgroup": "roberta-dbfl",
         "marker": {
          "color": "#00cc96",
          "pattern": {
           "shape": ""
          }
         },
         "name": "roberta-dbfl",
         "offsetgroup": "roberta-dbfl",
         "orientation": "v",
         "showlegend": true,
         "textposition": "auto",
         "type": "bar",
         "x": [
          "male",
          "female",
          "black",
          "white",
          "homosexual",
          "christian",
          "jewish",
          "muslim",
          "psychiatric"
         ],
         "xaxis": "x",
         "y": [
          0.8312386533425444,
          0.8301934078401862,
          0.7445875925549068,
          0.7634018221654765,
          0.7338086763070077,
          0.8718826986192615,
          0.7977980163433348,
          0.7803787343872792,
          0.8209061262520382
         ],
         "yaxis": "y"
        },
        {
         "alignmentgroup": "True",
         "hovertemplate": "Model=roberta-dbfl<br>variable=bpsn_auc<br>=%{x}<br>AUC=%{y}<extra></extra>",
         "legendgroup": "roberta-dbfl",
         "marker": {
          "color": "#00cc96",
          "pattern": {
           "shape": ""
          }
         },
         "name": "roberta-dbfl",
         "offsetgroup": "roberta-dbfl",
         "orientation": "v",
         "showlegend": false,
         "textposition": "auto",
         "type": "bar",
         "x": [
          "male",
          "female",
          "black",
          "white",
          "homosexual",
          "christian",
          "jewish",
          "muslim",
          "psychiatric"
         ],
         "xaxis": "x2",
         "y": [
          0.7622555368560825,
          0.7843359334992781,
          0.6300595546444852,
          0.6261411661258365,
          0.705761121417074,
          0.8481970566208495,
          0.7281902188778879,
          0.695772299035167,
          0.8103161905368368
         ],
         "yaxis": "y2"
        },
        {
         "alignmentgroup": "True",
         "hovertemplate": "Model=roberta-dbfl<br>variable=bnsp_auc<br>=%{x}<br>AUC=%{y}<extra></extra>",
         "legendgroup": "roberta-dbfl",
         "marker": {
          "color": "#00cc96",
          "pattern": {
           "shape": ""
          }
         },
         "name": "roberta-dbfl",
         "offsetgroup": "roberta-dbfl",
         "orientation": "v",
         "showlegend": false,
         "textposition": "auto",
         "type": "bar",
         "x": [
          "male",
          "female",
          "black",
          "white",
          "homosexual",
          "christian",
          "jewish",
          "muslim",
          "psychiatric"
         ],
         "xaxis": "x3",
         "y": [
          0.9045973260517025,
          0.8917016946405909,
          0.9129168521584808,
          0.9250283265766236,
          0.8709150151519215,
          0.8750513062036139,
          0.9022412048451649,
          0.9085361036577062,
          0.8626127107855147
         ],
         "yaxis": "y3"
        },
        {
         "alignmentgroup": "True",
         "hovertemplate": "Model=roberta-fl<br>variable=subgroup_auc<br>=%{x}<br>AUC=%{y}<extra></extra>",
         "legendgroup": "roberta-fl",
         "marker": {
          "color": "#ab63fa",
          "pattern": {
           "shape": ""
          }
         },
         "name": "roberta-fl",
         "offsetgroup": "roberta-fl",
         "orientation": "v",
         "showlegend": true,
         "textposition": "auto",
         "type": "bar",
         "x": [
          "male",
          "female",
          "black",
          "white",
          "homosexual",
          "christian",
          "jewish",
          "muslim",
          "psychiatric"
         ],
         "xaxis": "x",
         "y": [
          0.8356534068087978,
          0.8360579407563019,
          0.7471998716363237,
          0.7605921249665044,
          0.7383826473859845,
          0.8718405165602356,
          0.7996797870792007,
          0.7743736627878373,
          0.8345562543675751
         ],
         "yaxis": "y"
        },
        {
         "alignmentgroup": "True",
         "hovertemplate": "Model=roberta-fl<br>variable=bpsn_auc<br>=%{x}<br>AUC=%{y}<extra></extra>",
         "legendgroup": "roberta-fl",
         "marker": {
          "color": "#ab63fa",
          "pattern": {
           "shape": ""
          }
         },
         "name": "roberta-fl",
         "offsetgroup": "roberta-fl",
         "orientation": "v",
         "showlegend": false,
         "textposition": "auto",
         "type": "bar",
         "x": [
          "male",
          "female",
          "black",
          "white",
          "homosexual",
          "christian",
          "jewish",
          "muslim",
          "psychiatric"
         ],
         "xaxis": "x2",
         "y": [
          0.7854037361915887,
          0.8163465845805588,
          0.6609619675418863,
          0.6571323337802644,
          0.7553156872793942,
          0.8762735147271141,
          0.7678575475877853,
          0.7434293690403879,
          0.8135176296720821
         ],
         "yaxis": "y2"
        },
        {
         "alignmentgroup": "True",
         "hovertemplate": "Model=roberta-fl<br>variable=bnsp_auc<br>=%{x}<br>AUC=%{y}<extra></extra>",
         "legendgroup": "roberta-fl",
         "marker": {
          "color": "#ab63fa",
          "pattern": {
           "shape": ""
          }
         },
         "name": "roberta-fl",
         "offsetgroup": "roberta-fl",
         "orientation": "v",
         "showlegend": false,
         "textposition": "auto",
         "type": "bar",
         "x": [
          "male",
          "female",
          "black",
          "white",
          "homosexual",
          "christian",
          "jewish",
          "muslim",
          "psychiatric"
         ],
         "xaxis": "x3",
         "y": [
          0.8992869080126327,
          0.8798011791900634,
          0.9061040794747817,
          0.9186607968631902,
          0.8489960522701989,
          0.8534252382067489,
          0.8877322585261815,
          0.8880723462036635,
          0.8783406156637994
         ],
         "yaxis": "y3"
        },
        {
         "alignmentgroup": "True",
         "hovertemplate": "Model=roberta-large-bce<br>variable=subgroup_auc<br>=%{x}<br>AUC=%{y}<extra></extra>",
         "legendgroup": "roberta-large-bce",
         "marker": {
          "color": "#FFA15A",
          "pattern": {
           "shape": ""
          }
         },
         "name": "roberta-large-bce",
         "offsetgroup": "roberta-large-bce",
         "orientation": "v",
         "showlegend": true,
         "textposition": "auto",
         "type": "bar",
         "x": [
          "male",
          "female",
          "black",
          "white",
          "homosexual",
          "christian",
          "jewish",
          "muslim",
          "psychiatric"
         ],
         "xaxis": "x",
         "y": [
          0.8416932426136272,
          0.8508447427078651,
          0.770547972010457,
          0.7692040636181651,
          0.72159510567297,
          0.866720118260865,
          0.8229887925477719,
          0.783902525294835,
          0.8254251106452364
         ],
         "yaxis": "y"
        },
        {
         "alignmentgroup": "True",
         "hovertemplate": "Model=roberta-large-bce<br>variable=bpsn_auc<br>=%{x}<br>AUC=%{y}<extra></extra>",
         "legendgroup": "roberta-large-bce",
         "marker": {
          "color": "#FFA15A",
          "pattern": {
           "shape": ""
          }
         },
         "name": "roberta-large-bce",
         "offsetgroup": "roberta-large-bce",
         "orientation": "v",
         "showlegend": false,
         "textposition": "auto",
         "type": "bar",
         "x": [
          "male",
          "female",
          "black",
          "white",
          "homosexual",
          "christian",
          "jewish",
          "muslim",
          "psychiatric"
         ],
         "xaxis": "x2",
         "y": [
          0.7940277164626353,
          0.8236450996337893,
          0.6902804655585815,
          0.6742848740804797,
          0.7646291657944694,
          0.8920055157975747,
          0.8032241308703296,
          0.7562669239314529,
          0.7944225549426495
         ],
         "yaxis": "y2"
        },
        {
         "alignmentgroup": "True",
         "hovertemplate": "Model=roberta-large-bce<br>variable=bnsp_auc<br>=%{x}<br>AUC=%{y}<extra></extra>",
         "legendgroup": "roberta-large-bce",
         "marker": {
          "color": "#FFA15A",
          "pattern": {
           "shape": ""
          }
         },
         "name": "roberta-large-bce",
         "offsetgroup": "roberta-large-bce",
         "orientation": "v",
         "showlegend": false,
         "textposition": "auto",
         "type": "bar",
         "x": [
          "male",
          "female",
          "black",
          "white",
          "homosexual",
          "christian",
          "jewish",
          "muslim",
          "psychiatric"
         ],
         "xaxis": "x3",
         "y": [
          0.9055746146987202,
          0.8925974712079344,
          0.9139957813043998,
          0.9225312800884147,
          0.840366670026568,
          0.8377511448730376,
          0.8841432977947293,
          0.8927266338382253,
          0.8914222564252099
         ],
         "yaxis": "y3"
        },
        {
         "alignmentgroup": "True",
         "hovertemplate": "Model=roberta-pwbce<br>variable=subgroup_auc<br>=%{x}<br>AUC=%{y}<extra></extra>",
         "legendgroup": "roberta-pwbce",
         "marker": {
          "color": "#19d3f3",
          "pattern": {
           "shape": ""
          }
         },
         "name": "roberta-pwbce",
         "offsetgroup": "roberta-pwbce",
         "orientation": "v",
         "showlegend": true,
         "textposition": "auto",
         "type": "bar",
         "x": [
          "male",
          "female",
          "black",
          "white",
          "homosexual",
          "christian",
          "jewish",
          "muslim",
          "psychiatric"
         ],
         "xaxis": "x",
         "y": [
          0.8322775251835548,
          0.8325454378259783,
          0.7445445437610557,
          0.7572591068867136,
          0.7393748609566184,
          0.8713903647363023,
          0.7991391678622669,
          0.7704150493796134,
          0.8306662007919869
         ],
         "yaxis": "y"
        },
        {
         "alignmentgroup": "True",
         "hovertemplate": "Model=roberta-pwbce<br>variable=bpsn_auc<br>=%{x}<br>AUC=%{y}<extra></extra>",
         "legendgroup": "roberta-pwbce",
         "marker": {
          "color": "#19d3f3",
          "pattern": {
           "shape": ""
          }
         },
         "name": "roberta-pwbce",
         "offsetgroup": "roberta-pwbce",
         "orientation": "v",
         "showlegend": false,
         "textposition": "auto",
         "type": "bar",
         "x": [
          "male",
          "female",
          "black",
          "white",
          "homosexual",
          "christian",
          "jewish",
          "muslim",
          "psychiatric"
         ],
         "xaxis": "x2",
         "y": [
          0.7821401691797759,
          0.8160620551317745,
          0.6507393684136522,
          0.6411958969700411,
          0.7474146630190777,
          0.8685358648375644,
          0.7539710950911207,
          0.7226851426281502,
          0.8146802938765114
         ],
         "yaxis": "y2"
        },
        {
         "alignmentgroup": "True",
         "hovertemplate": "Model=roberta-pwbce<br>variable=bnsp_auc<br>=%{x}<br>AUC=%{y}<extra></extra>",
         "legendgroup": "roberta-pwbce",
         "marker": {
          "color": "#19d3f3",
          "pattern": {
           "shape": ""
          }
         },
         "name": "roberta-pwbce",
         "offsetgroup": "roberta-pwbce",
         "orientation": "v",
         "showlegend": false,
         "textposition": "auto",
         "type": "bar",
         "x": [
          "male",
          "female",
          "black",
          "white",
          "homosexual",
          "christian",
          "jewish",
          "muslim",
          "psychiatric"
         ],
         "xaxis": "x3",
         "y": [
          0.8962886887328815,
          0.8742858215580909,
          0.9063913324200769,
          0.9202846908069453,
          0.8511895437408277,
          0.8582149256510717,
          0.8930797266285101,
          0.8946839430266671,
          0.8714478285027458
         ],
         "yaxis": "y3"
        },
        {
         "alignmentgroup": "True",
         "hovertemplate": "Model=roberta-pwfl<br>variable=subgroup_auc<br>=%{x}<br>AUC=%{y}<extra></extra>",
         "legendgroup": "roberta-pwfl",
         "marker": {
          "color": "#FF6692",
          "pattern": {
           "shape": ""
          }
         },
         "name": "roberta-pwfl",
         "offsetgroup": "roberta-pwfl",
         "orientation": "v",
         "showlegend": true,
         "textposition": "auto",
         "type": "bar",
         "x": [
          "male",
          "female",
          "black",
          "white",
          "homosexual",
          "christian",
          "jewish",
          "muslim",
          "psychiatric"
         ],
         "xaxis": "x",
         "y": [
          0.8337142329257908,
          0.8319188990012939,
          0.7459534133779998,
          0.7597141438501915,
          0.7373147942157953,
          0.8713809209917442,
          0.79923273657289,
          0.7724202858658752,
          0.8256114605171209
         ],
         "yaxis": "y"
        },
        {
         "alignmentgroup": "True",
         "hovertemplate": "Model=roberta-pwfl<br>variable=bpsn_auc<br>=%{x}<br>AUC=%{y}<extra></extra>",
         "legendgroup": "roberta-pwfl",
         "marker": {
          "color": "#FF6692",
          "pattern": {
           "shape": ""
          }
         },
         "name": "roberta-pwfl",
         "offsetgroup": "roberta-pwfl",
         "orientation": "v",
         "showlegend": false,
         "textposition": "auto",
         "type": "bar",
         "x": [
          "male",
          "female",
          "black",
          "white",
          "homosexual",
          "christian",
          "jewish",
          "muslim",
          "psychiatric"
         ],
         "xaxis": "x2",
         "y": [
          0.7732971984222944,
          0.8098926776625954,
          0.6113573796696465,
          0.605349486902885,
          0.7201039418503093,
          0.8651960876195788,
          0.7476081527876138,
          0.7047273005281679,
          0.7887148341837074
         ],
         "yaxis": "y2"
        },
        {
         "alignmentgroup": "True",
         "hovertemplate": "Model=roberta-pwfl<br>variable=bnsp_auc<br>=%{x}<br>AUC=%{y}<extra></extra>",
         "legendgroup": "roberta-pwfl",
         "marker": {
          "color": "#FF6692",
          "pattern": {
           "shape": ""
          }
         },
         "name": "roberta-pwfl",
         "offsetgroup": "roberta-pwfl",
         "orientation": "v",
         "showlegend": false,
         "textposition": "auto",
         "type": "bar",
         "x": [
          "male",
          "female",
          "black",
          "white",
          "homosexual",
          "christian",
          "jewish",
          "muslim",
          "psychiatric"
         ],
         "xaxis": "x3",
         "y": [
          0.9021535721300334,
          0.878052740826424,
          0.9211108323069571,
          0.9325156476439302,
          0.8666547683009042,
          0.8612991434322984,
          0.8956276036788252,
          0.9031685746645711,
          0.8857279098884878
         ],
         "yaxis": "y3"
        },
        {
         "alignmentgroup": "True",
         "hovertemplate": "Model=unfreeze-glove-resnet44-bce<br>variable=subgroup_auc<br>=%{x}<br>AUC=%{y}<extra></extra>",
         "legendgroup": "unfreeze-glove-resnet44-bce",
         "marker": {
          "color": "#B6E880",
          "pattern": {
           "shape": ""
          }
         },
         "name": "unfreeze-glove-resnet44-bce",
         "offsetgroup": "unfreeze-glove-resnet44-bce",
         "orientation": "v",
         "showlegend": true,
         "textposition": "auto",
         "type": "bar",
         "x": [
          "male",
          "female",
          "black",
          "white",
          "homosexual",
          "christian",
          "jewish",
          "muslim",
          "psychiatric"
         ],
         "xaxis": "x",
         "y": [
          0.8393347444692575,
          0.838607808066064,
          0.7617347098511295,
          0.779873031635693,
          0.7293592880978865,
          0.8624427315590426,
          0.7964464683010002,
          0.7549236667105478,
          0.8262170976007454
         ],
         "yaxis": "y"
        },
        {
         "alignmentgroup": "True",
         "hovertemplate": "Model=unfreeze-glove-resnet44-bce<br>variable=bpsn_auc<br>=%{x}<br>AUC=%{y}<extra></extra>",
         "legendgroup": "unfreeze-glove-resnet44-bce",
         "marker": {
          "color": "#B6E880",
          "pattern": {
           "shape": ""
          }
         },
         "name": "unfreeze-glove-resnet44-bce",
         "offsetgroup": "unfreeze-glove-resnet44-bce",
         "orientation": "v",
         "showlegend": false,
         "textposition": "auto",
         "type": "bar",
         "x": [
          "male",
          "female",
          "black",
          "white",
          "homosexual",
          "christian",
          "jewish",
          "muslim",
          "psychiatric"
         ],
         "xaxis": "x2",
         "y": [
          0.8104349246488451,
          0.8344058166204534,
          0.6425606647030964,
          0.6527928089246433,
          0.7071169851088863,
          0.8912187540019825,
          0.8018924894367521,
          0.7291808231391711,
          0.8178886315214133
         ],
         "yaxis": "y2"
        },
        {
         "alignmentgroup": "True",
         "hovertemplate": "Model=unfreeze-glove-resnet44-bce<br>variable=bnsp_auc<br>=%{x}<br>AUC=%{y}<extra></extra>",
         "legendgroup": "unfreeze-glove-resnet44-bce",
         "marker": {
          "color": "#B6E880",
          "pattern": {
           "shape": ""
          }
         },
         "name": "unfreeze-glove-resnet44-bce",
         "offsetgroup": "unfreeze-glove-resnet44-bce",
         "orientation": "v",
         "showlegend": false,
         "textposition": "auto",
         "type": "bar",
         "x": [
          "male",
          "female",
          "black",
          "white",
          "homosexual",
          "christian",
          "jewish",
          "muslim",
          "psychiatric"
         ],
         "xaxis": "x3",
         "y": [
          0.9040608721270786,
          0.8888114782229334,
          0.9387725686477121,
          0.9393528772995463,
          0.895608023444096,
          0.8501459115877639,
          0.8808079903099806,
          0.9047569707979087,
          0.8870117744787258
         ],
         "yaxis": "y3"
        }
       ],
       "layout": {
        "annotations": [
         {
          "font": {},
          "showarrow": false,
          "text": "Sub. AUC",
          "x": 0.15999999999999998,
          "xanchor": "center",
          "xref": "paper",
          "y": 1,
          "yanchor": "bottom",
          "yref": "paper"
         },
         {
          "font": {},
          "showarrow": false,
          "text": "BPSN AUC",
          "x": 0.49999999999999994,
          "xanchor": "center",
          "xref": "paper",
          "y": 1,
          "yanchor": "bottom",
          "yref": "paper"
         },
         {
          "font": {},
          "showarrow": false,
          "text": "BNSP AUC",
          "x": 0.8399999999999999,
          "xanchor": "center",
          "xref": "paper",
          "y": 1,
          "yanchor": "bottom",
          "yref": "paper"
         }
        ],
        "barmode": "group",
        "legend": {
         "title": {
          "text": "Model"
         },
         "tracegroupgap": 0
        },
        "margin": {
         "t": 60
        },
        "template": {
         "data": {
          "bar": [
           {
            "error_x": {
             "color": "#2a3f5f"
            },
            "error_y": {
             "color": "#2a3f5f"
            },
            "marker": {
             "line": {
              "color": "#E5ECF6",
              "width": 0.5
             },
             "pattern": {
              "fillmode": "overlay",
              "size": 10,
              "solidity": 0.2
             }
            },
            "type": "bar"
           }
          ],
          "barpolar": [
           {
            "marker": {
             "line": {
              "color": "#E5ECF6",
              "width": 0.5
             },
             "pattern": {
              "fillmode": "overlay",
              "size": 10,
              "solidity": 0.2
             }
            },
            "type": "barpolar"
           }
          ],
          "carpet": [
           {
            "aaxis": {
             "endlinecolor": "#2a3f5f",
             "gridcolor": "white",
             "linecolor": "white",
             "minorgridcolor": "white",
             "startlinecolor": "#2a3f5f"
            },
            "baxis": {
             "endlinecolor": "#2a3f5f",
             "gridcolor": "white",
             "linecolor": "white",
             "minorgridcolor": "white",
             "startlinecolor": "#2a3f5f"
            },
            "type": "carpet"
           }
          ],
          "choropleth": [
           {
            "colorbar": {
             "outlinewidth": 0,
             "ticks": ""
            },
            "type": "choropleth"
           }
          ],
          "contour": [
           {
            "colorbar": {
             "outlinewidth": 0,
             "ticks": ""
            },
            "colorscale": [
             [
              0,
              "#0d0887"
             ],
             [
              0.1111111111111111,
              "#46039f"
             ],
             [
              0.2222222222222222,
              "#7201a8"
             ],
             [
              0.3333333333333333,
              "#9c179e"
             ],
             [
              0.4444444444444444,
              "#bd3786"
             ],
             [
              0.5555555555555556,
              "#d8576b"
             ],
             [
              0.6666666666666666,
              "#ed7953"
             ],
             [
              0.7777777777777778,
              "#fb9f3a"
             ],
             [
              0.8888888888888888,
              "#fdca26"
             ],
             [
              1,
              "#f0f921"
             ]
            ],
            "type": "contour"
           }
          ],
          "contourcarpet": [
           {
            "colorbar": {
             "outlinewidth": 0,
             "ticks": ""
            },
            "type": "contourcarpet"
           }
          ],
          "heatmap": [
           {
            "colorbar": {
             "outlinewidth": 0,
             "ticks": ""
            },
            "colorscale": [
             [
              0,
              "#0d0887"
             ],
             [
              0.1111111111111111,
              "#46039f"
             ],
             [
              0.2222222222222222,
              "#7201a8"
             ],
             [
              0.3333333333333333,
              "#9c179e"
             ],
             [
              0.4444444444444444,
              "#bd3786"
             ],
             [
              0.5555555555555556,
              "#d8576b"
             ],
             [
              0.6666666666666666,
              "#ed7953"
             ],
             [
              0.7777777777777778,
              "#fb9f3a"
             ],
             [
              0.8888888888888888,
              "#fdca26"
             ],
             [
              1,
              "#f0f921"
             ]
            ],
            "type": "heatmap"
           }
          ],
          "heatmapgl": [
           {
            "colorbar": {
             "outlinewidth": 0,
             "ticks": ""
            },
            "colorscale": [
             [
              0,
              "#0d0887"
             ],
             [
              0.1111111111111111,
              "#46039f"
             ],
             [
              0.2222222222222222,
              "#7201a8"
             ],
             [
              0.3333333333333333,
              "#9c179e"
             ],
             [
              0.4444444444444444,
              "#bd3786"
             ],
             [
              0.5555555555555556,
              "#d8576b"
             ],
             [
              0.6666666666666666,
              "#ed7953"
             ],
             [
              0.7777777777777778,
              "#fb9f3a"
             ],
             [
              0.8888888888888888,
              "#fdca26"
             ],
             [
              1,
              "#f0f921"
             ]
            ],
            "type": "heatmapgl"
           }
          ],
          "histogram": [
           {
            "marker": {
             "pattern": {
              "fillmode": "overlay",
              "size": 10,
              "solidity": 0.2
             }
            },
            "type": "histogram"
           }
          ],
          "histogram2d": [
           {
            "colorbar": {
             "outlinewidth": 0,
             "ticks": ""
            },
            "colorscale": [
             [
              0,
              "#0d0887"
             ],
             [
              0.1111111111111111,
              "#46039f"
             ],
             [
              0.2222222222222222,
              "#7201a8"
             ],
             [
              0.3333333333333333,
              "#9c179e"
             ],
             [
              0.4444444444444444,
              "#bd3786"
             ],
             [
              0.5555555555555556,
              "#d8576b"
             ],
             [
              0.6666666666666666,
              "#ed7953"
             ],
             [
              0.7777777777777778,
              "#fb9f3a"
             ],
             [
              0.8888888888888888,
              "#fdca26"
             ],
             [
              1,
              "#f0f921"
             ]
            ],
            "type": "histogram2d"
           }
          ],
          "histogram2dcontour": [
           {
            "colorbar": {
             "outlinewidth": 0,
             "ticks": ""
            },
            "colorscale": [
             [
              0,
              "#0d0887"
             ],
             [
              0.1111111111111111,
              "#46039f"
             ],
             [
              0.2222222222222222,
              "#7201a8"
             ],
             [
              0.3333333333333333,
              "#9c179e"
             ],
             [
              0.4444444444444444,
              "#bd3786"
             ],
             [
              0.5555555555555556,
              "#d8576b"
             ],
             [
              0.6666666666666666,
              "#ed7953"
             ],
             [
              0.7777777777777778,
              "#fb9f3a"
             ],
             [
              0.8888888888888888,
              "#fdca26"
             ],
             [
              1,
              "#f0f921"
             ]
            ],
            "type": "histogram2dcontour"
           }
          ],
          "mesh3d": [
           {
            "colorbar": {
             "outlinewidth": 0,
             "ticks": ""
            },
            "type": "mesh3d"
           }
          ],
          "parcoords": [
           {
            "line": {
             "colorbar": {
              "outlinewidth": 0,
              "ticks": ""
             }
            },
            "type": "parcoords"
           }
          ],
          "pie": [
           {
            "automargin": true,
            "type": "pie"
           }
          ],
          "scatter": [
           {
            "marker": {
             "colorbar": {
              "outlinewidth": 0,
              "ticks": ""
             }
            },
            "type": "scatter"
           }
          ],
          "scatter3d": [
           {
            "line": {
             "colorbar": {
              "outlinewidth": 0,
              "ticks": ""
             }
            },
            "marker": {
             "colorbar": {
              "outlinewidth": 0,
              "ticks": ""
             }
            },
            "type": "scatter3d"
           }
          ],
          "scattercarpet": [
           {
            "marker": {
             "colorbar": {
              "outlinewidth": 0,
              "ticks": ""
             }
            },
            "type": "scattercarpet"
           }
          ],
          "scattergeo": [
           {
            "marker": {
             "colorbar": {
              "outlinewidth": 0,
              "ticks": ""
             }
            },
            "type": "scattergeo"
           }
          ],
          "scattergl": [
           {
            "marker": {
             "colorbar": {
              "outlinewidth": 0,
              "ticks": ""
             }
            },
            "type": "scattergl"
           }
          ],
          "scattermapbox": [
           {
            "marker": {
             "colorbar": {
              "outlinewidth": 0,
              "ticks": ""
             }
            },
            "type": "scattermapbox"
           }
          ],
          "scatterpolar": [
           {
            "marker": {
             "colorbar": {
              "outlinewidth": 0,
              "ticks": ""
             }
            },
            "type": "scatterpolar"
           }
          ],
          "scatterpolargl": [
           {
            "marker": {
             "colorbar": {
              "outlinewidth": 0,
              "ticks": ""
             }
            },
            "type": "scatterpolargl"
           }
          ],
          "scatterternary": [
           {
            "marker": {
             "colorbar": {
              "outlinewidth": 0,
              "ticks": ""
             }
            },
            "type": "scatterternary"
           }
          ],
          "surface": [
           {
            "colorbar": {
             "outlinewidth": 0,
             "ticks": ""
            },
            "colorscale": [
             [
              0,
              "#0d0887"
             ],
             [
              0.1111111111111111,
              "#46039f"
             ],
             [
              0.2222222222222222,
              "#7201a8"
             ],
             [
              0.3333333333333333,
              "#9c179e"
             ],
             [
              0.4444444444444444,
              "#bd3786"
             ],
             [
              0.5555555555555556,
              "#d8576b"
             ],
             [
              0.6666666666666666,
              "#ed7953"
             ],
             [
              0.7777777777777778,
              "#fb9f3a"
             ],
             [
              0.8888888888888888,
              "#fdca26"
             ],
             [
              1,
              "#f0f921"
             ]
            ],
            "type": "surface"
           }
          ],
          "table": [
           {
            "cells": {
             "fill": {
              "color": "#EBF0F8"
             },
             "line": {
              "color": "white"
             }
            },
            "header": {
             "fill": {
              "color": "#C8D4E3"
             },
             "line": {
              "color": "white"
             }
            },
            "type": "table"
           }
          ]
         },
         "layout": {
          "annotationdefaults": {
           "arrowcolor": "#2a3f5f",
           "arrowhead": 0,
           "arrowwidth": 1
          },
          "autotypenumbers": "strict",
          "coloraxis": {
           "colorbar": {
            "outlinewidth": 0,
            "ticks": ""
           }
          },
          "colorscale": {
           "diverging": [
            [
             0,
             "#8e0152"
            ],
            [
             0.1,
             "#c51b7d"
            ],
            [
             0.2,
             "#de77ae"
            ],
            [
             0.3,
             "#f1b6da"
            ],
            [
             0.4,
             "#fde0ef"
            ],
            [
             0.5,
             "#f7f7f7"
            ],
            [
             0.6,
             "#e6f5d0"
            ],
            [
             0.7,
             "#b8e186"
            ],
            [
             0.8,
             "#7fbc41"
            ],
            [
             0.9,
             "#4d9221"
            ],
            [
             1,
             "#276419"
            ]
           ],
           "sequential": [
            [
             0,
             "#0d0887"
            ],
            [
             0.1111111111111111,
             "#46039f"
            ],
            [
             0.2222222222222222,
             "#7201a8"
            ],
            [
             0.3333333333333333,
             "#9c179e"
            ],
            [
             0.4444444444444444,
             "#bd3786"
            ],
            [
             0.5555555555555556,
             "#d8576b"
            ],
            [
             0.6666666666666666,
             "#ed7953"
            ],
            [
             0.7777777777777778,
             "#fb9f3a"
            ],
            [
             0.8888888888888888,
             "#fdca26"
            ],
            [
             1,
             "#f0f921"
            ]
           ],
           "sequentialminus": [
            [
             0,
             "#0d0887"
            ],
            [
             0.1111111111111111,
             "#46039f"
            ],
            [
             0.2222222222222222,
             "#7201a8"
            ],
            [
             0.3333333333333333,
             "#9c179e"
            ],
            [
             0.4444444444444444,
             "#bd3786"
            ],
            [
             0.5555555555555556,
             "#d8576b"
            ],
            [
             0.6666666666666666,
             "#ed7953"
            ],
            [
             0.7777777777777778,
             "#fb9f3a"
            ],
            [
             0.8888888888888888,
             "#fdca26"
            ],
            [
             1,
             "#f0f921"
            ]
           ]
          },
          "colorway": [
           "#636efa",
           "#EF553B",
           "#00cc96",
           "#ab63fa",
           "#FFA15A",
           "#19d3f3",
           "#FF6692",
           "#B6E880",
           "#FF97FF",
           "#FECB52"
          ],
          "font": {
           "color": "#2a3f5f"
          },
          "geo": {
           "bgcolor": "white",
           "lakecolor": "white",
           "landcolor": "#E5ECF6",
           "showlakes": true,
           "showland": true,
           "subunitcolor": "white"
          },
          "hoverlabel": {
           "align": "left"
          },
          "hovermode": "closest",
          "mapbox": {
           "style": "light"
          },
          "paper_bgcolor": "white",
          "plot_bgcolor": "#E5ECF6",
          "polar": {
           "angularaxis": {
            "gridcolor": "white",
            "linecolor": "white",
            "ticks": ""
           },
           "bgcolor": "#E5ECF6",
           "radialaxis": {
            "gridcolor": "white",
            "linecolor": "white",
            "ticks": ""
           }
          },
          "scene": {
           "xaxis": {
            "backgroundcolor": "#E5ECF6",
            "gridcolor": "white",
            "gridwidth": 2,
            "linecolor": "white",
            "showbackground": true,
            "ticks": "",
            "zerolinecolor": "white"
           },
           "yaxis": {
            "backgroundcolor": "#E5ECF6",
            "gridcolor": "white",
            "gridwidth": 2,
            "linecolor": "white",
            "showbackground": true,
            "ticks": "",
            "zerolinecolor": "white"
           },
           "zaxis": {
            "backgroundcolor": "#E5ECF6",
            "gridcolor": "white",
            "gridwidth": 2,
            "linecolor": "white",
            "showbackground": true,
            "ticks": "",
            "zerolinecolor": "white"
           }
          },
          "shapedefaults": {
           "line": {
            "color": "#2a3f5f"
           }
          },
          "ternary": {
           "aaxis": {
            "gridcolor": "white",
            "linecolor": "white",
            "ticks": ""
           },
           "baxis": {
            "gridcolor": "white",
            "linecolor": "white",
            "ticks": ""
           },
           "bgcolor": "#E5ECF6",
           "caxis": {
            "gridcolor": "white",
            "linecolor": "white",
            "ticks": ""
           }
          },
          "title": {
           "x": 0.05
          },
          "xaxis": {
           "automargin": true,
           "gridcolor": "white",
           "linecolor": "white",
           "ticks": "",
           "title": {
            "standoff": 15
           },
           "zerolinecolor": "white",
           "zerolinewidth": 2
          },
          "yaxis": {
           "automargin": true,
           "gridcolor": "white",
           "linecolor": "white",
           "ticks": "",
           "title": {
            "standoff": 15
           },
           "zerolinecolor": "white",
           "zerolinewidth": 2
          }
         }
        },
        "width": 1500,
        "xaxis": {
         "anchor": "y",
         "domain": [
          0,
          0.31999999999999995
         ],
         "title": {
          "text": ""
         }
        },
        "xaxis2": {
         "anchor": "y2",
         "domain": [
          0.33999999999999997,
          0.6599999999999999
         ],
         "matches": "x",
         "title": {
          "text": ""
         }
        },
        "xaxis3": {
         "anchor": "y3",
         "domain": [
          0.6799999999999999,
          0.9999999999999999
         ],
         "matches": "x",
         "title": {
          "text": ""
         }
        },
        "yaxis": {
         "anchor": "x",
         "domain": [
          0,
          1
         ],
         "range": [
          0.5,
          1
         ],
         "title": {
          "text": "AUC"
         }
        },
        "yaxis2": {
         "anchor": "x2",
         "domain": [
          0,
          1
         ],
         "matches": "y",
         "showticklabels": false
        },
        "yaxis3": {
         "anchor": "x3",
         "domain": [
          0,
          1
         ],
         "matches": "y",
         "showticklabels": false
        }
       }
      }
     },
     "metadata": {},
     "output_type": "display_data"
    }
   ],
   "source": [
    "import plotly.express as px\n",
    "\n",
    "labels={\n",
    "    \"subgroup_auc\": \"Sub. AUC\",\n",
    "    \"bpsn_auc\": \"BPSN AUC\",\n",
    "    \"bnsp_auc\": \"BNSP AUC\",\n",
    "    \"subgroup\":\"\",\n",
    "    \"session_name\": \"Model\",\n",
    "    \"value\":\"AUC\"\n",
    "}\n",
    "\n",
    "fig = px.bar(identity_aur_per_sub_per_model_df, x=\"subgroup\", y=\"value\", \n",
    "            color=\"session_name\", barmode=\"group\",\n",
    "            facet_col=\"variable\", labels=labels, range_y=[0.5, 1.0], width=1500)\n",
    "\n",
    "fig.for_each_annotation(lambda a: a.update(text=a.text.split(\"=\")[-1]))\n",
    "fig.for_each_annotation(lambda a: a.update(text=labels.get(a.text, a.text)))\n",
    "\n",
    "fig.write_image(\"identity_aur_per_sub_per_model_df.svg\")\n",
    "fig.show()\n",
    "\n"
   ]
  },
  {
   "cell_type": "markdown",
   "metadata": {},
   "source": [
    "* La tableau des AUROC par classe (toxicity, obscene, ...) en fonction du modèle\n",
    "* Le graph qui place les modèles de AUROC en fonction du nombre de paramètres, avec des points qui ont différentes couleurs en fonction de la famille du modèle (type BERT, type CNN, ...)"
   ]
  }
 ],
 "metadata": {
  "interpreter": {
   "hash": "74c553a6e8b82483857ba3ddaf7e8469fb5af9a74c95d0698cfa607b46dae7b0"
  },
  "kernelspec": {
   "display_name": "Python 3.8.9 ('.venv': poetry)",
   "language": "python",
   "name": "python3"
  },
  "language_info": {
   "codemirror_mode": {
    "name": "ipython",
    "version": 3
   },
   "file_extension": ".py",
   "mimetype": "text/x-python",
   "name": "python",
   "nbconvert_exporter": "python",
   "pygments_lexer": "ipython3",
   "version": "3.8.9"
  },
  "orig_nbformat": 4
 },
 "nbformat": 4,
 "nbformat_minor": 2
}
